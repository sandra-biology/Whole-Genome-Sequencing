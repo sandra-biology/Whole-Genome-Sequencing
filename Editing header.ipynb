{
 "cells": [
  {
   "cell_type": "code",
   "execution_count": 6,
   "id": "90d7d851",
   "metadata": {},
   "outputs": [
    {
     "name": "stdout",
     "output_type": "stream",
     "text": [
      "a b\n",
      "c d e\n",
      "fg\n",
      "h i\n"
     ]
    }
   ],
   "source": [
    "lines = [\n",
    "    'a, b',\n",
    "    'c, d, e',\n",
    "    'fg',\n",
    "    'h, i'\n",
    "]\n",
    "\n",
    "for line in lines:\n",
    "    pos = line.find(',')\n",
    "    while pos >= 0:\n",
    "        line = line.replace(',', '')\n",
    "        pos = line.find(',')\n",
    "    print(line)"
   ]
  },
  {
   "cell_type": "code",
   "execution_count": 1,
   "id": "d89adf5b",
   "metadata": {},
   "outputs": [
    {
     "name": "stdout",
     "output_type": "stream",
     "text": [
      "s: Normalized, Phred-scale likelihoods for genotypes, as defined in the VCF specification\n",
      "ind at the start of while loop: 10\n",
      "new line: Normalized Phred-scale likelihoods for genotypes as defined in the VCF specification\n",
      "ind before exiting while loop: -1\n"
     ]
    }
   ],
   "source": [
    "s = 'Normalized, Phred-scale likelihoods for genotypes, as defined in the VCF specification'\n",
    "print(f's: {s}')\n",
    "ind = s.find(',')\n",
    "while ind >= 0:\n",
    "    print(f'ind at the start of while loop: {ind}')\n",
    "    new_line = s.replace(',', '')\n",
    "    print(f'new line: {new_line}')\n",
    "    ind = new_line.find(',')\n",
    "    print(f'ind before exiting while loop: {ind}')"
   ]
  },
  {
   "cell_type": "code",
   "execution_count": 4,
   "id": "68af1ad3",
   "metadata": {},
   "outputs": [
    {
     "name": "stdout",
     "output_type": "stream",
     "text": [
      "entire_line: ##FORMAT=<ID=PL,Number=G,Type=Integer,Description=\"Normalized, Phred-scaled likelihoods for genotypes as defined in the VCF specification\">\n",
      "new_line: Normalized Phred-scaled likelihoods for genotypes as defined in the VCF specification\n"
     ]
    }
   ],
   "source": [
    "# working with entire line - removing commas\n",
    "\n",
    "entire_line = '##FORMAT=<ID=PL,Number=G,Type=Integer,Description=\"Normalized, Phred-scaled likelihoods for genotypes as defined in the VCF specification\">'\n",
    "print(f'entire_line: {entire_line}')\n",
    "descr_ind = entire_line.find('Description')\n",
    "substring = entire_line[descr_ind+len('Description')+2:-2]\n",
    "ind = substring.find(',')\n",
    "while ind >= 0:\n",
    "    new_line = substring.replace(',', '')\n",
    "    ind = new_line.find(',')\n",
    "print(f'new_line: {new_line}')\n",
    "\n",
    "# with open('header_edited_chr3.txt', 'w') as output_file:\n",
    "#     with open('header_chr3.txt') as input_file:\n",
    "#         input_file_line = input_file.readline().rstrip('\\n')\n",
    "#         # print(input_file_line)\n",
    "#         while input_file_line:\n",
    "#             if input_file_line.startswith('##FORMAT') or input_file_line.startswith('##INFO'):\n",
    "#                 # print(f'original header: {input_file_line}')\n",
    "#                 descr_ind = input_file_line.find('Description')\n",
    "#                 substring = input_file_line[descr_ind+len('Description')+2:-2]\n",
    "#                 print(substring)\n",
    "#                 ind = substring.replace(',', '')"
   ]
  },
  {
   "cell_type": "code",
   "execution_count": 7,
   "id": "b78e8888",
   "metadata": {},
   "outputs": [
    {
     "name": "stdout",
     "output_type": "stream",
     "text": [
      "entire_line: ##FORMAT=<ID=PL,Number=G,Type=Integer,Description=\"Normalized, Phred-scaled likelihoods for genotypes, as defined in the VCF specification\">\n",
      "new_line: Normalized Phred-scaled likelihoods for genotypes as defined in the VCF specification\n",
      "new_file_line: ##FORMAT=<ID=PL,Number=G,Type=Integer,Description=\"Normalized Phred-scaled likelihoods for genotypes as defined in the VCF specification\">\n"
     ]
    }
   ],
   "source": [
    "# working with entire line - assembling new line - WORKS\n",
    "\n",
    "entire_line = '##FORMAT=<ID=PL,Number=G,Type=Integer,Description=\"Normalized, Phred-scaled likelihoods for genotypes, as defined in the VCF specification\">'\n",
    "print(f'entire_line: {entire_line}')\n",
    "descr_ind = entire_line.find('Description')\n",
    "substring = entire_line[descr_ind+len('Description')+2:-2]\n",
    "ind = substring.find(',')\n",
    "while ind >= 0:\n",
    "    new_line = substring.replace(',', '')\n",
    "    new_file_line = entire_line[:descr_ind+len('Description')+2] + new_line + entire_line[-2:]\n",
    "    ind = new_line.find(',')\n",
    "print(f'new_line: {new_line}')\n",
    "print(f'new_file_line: {new_file_line}')"
   ]
  },
  {
   "cell_type": "code",
   "execution_count": 15,
   "id": "2318198b",
   "metadata": {},
   "outputs": [
    {
     "name": "stdout",
     "output_type": "stream",
     "text": [
      "entire_line: ##INFO=<ID=AF,Number=A,Type=Float,Description=\"Allele Frequency, for each ALT allele, in the same order as listed\">\n",
      "new_line: Allele Frequency for each ALT allele in the same order as listed\n",
      "new_file_line: ##INFO=<ID=AF,Number=A,Type=Float,Description=\"Allele Frequency for each ALT allele in the same order as listed\">\n"
     ]
    }
   ],
   "source": [
    "# trying with entire INFO line - assembling new line - WORKS\n",
    "\n",
    "entire_line = '##INFO=<ID=AF,Number=A,Type=Float,Description=\"Allele Frequency, for each ALT allele, in the same order as listed\">'\n",
    "print(f'entire_line: {entire_line}')\n",
    "descr_ind = entire_line.find('Description')\n",
    "substring = entire_line[descr_ind+len('Description')+2:-2]\n",
    "ind = substring.find(',')\n",
    "while ind >= 0:\n",
    "    new_line = substring.replace(',', '')\n",
    "    new_file_line = entire_line[:descr_ind+len('Description')+2] + new_line + entire_line[-2:]\n",
    "    ind = new_line.find(',')\n",
    "print(f'new_line: {new_line}')\n",
    "print(f'new_file_line: {new_file_line}')"
   ]
  },
  {
   "cell_type": "code",
   "execution_count": 17,
   "id": "15ee3164",
   "metadata": {},
   "outputs": [
    {
     "name": "stdout",
     "output_type": "stream",
     "text": [
      "original info line: ##INFO=<ID=AF,Number=A,Type=Float,Description=\"Allele Frequency, for each ALT allele, in the same order as listed\">\n",
      "ind: 10, type(ind): <class 'int'>\n",
      "new_line: ##FORMAT=<ID=PL,Number=G,Type=Integer,Description=\"##INFO=<ID=AF,Number=A,Type=Float,Description=\"##FORMAT=<ID=PL,Number=G,Type=Integer,Description=\"Allele Frequency for each ALT allele in the same order as listed\">\">\">\n",
      "ind: 16, type(ind): <class 'int'>\n",
      "new_line: ##INFO=<ID=AF,Number=A,Type=Float,Description=\"##FORMAT=<ID=PL,Number=G,Type=Integer,Description=\"##INFO=<ID=AF,Number=A,Type=Float,Description=\"##FORMAT=<ID=PL,Number=G,Type=Integer,Description=\"Allele Frequency for each ALT allele in the same order as listed\">\">\">\">\n",
      "output_header_lines: []\n"
     ]
    }
   ],
   "source": [
    "# extending to multiple lines (1. FORMAT, 2. INFO)\n",
    "\n",
    "format_line = '##FORMAT=<ID=PL,Number=G,Type=Integer,Description=\"Normalized, Phred-scaled likelihoods for genotypes, as defined in the VCF specification\">'\n",
    "info_line = '##INFO=<ID=AF,Number=A,Type=Float,Description=\"Allele Frequency, for each ALT allele, in the same order as listed\">'\n",
    "print(f'original info line: {info_line}')\n",
    "input_header_lines = [format_line, info_line]\n",
    "for line in input_header_lines:\n",
    "    descr_ind = line.find('Description')\n",
    "    substring = line[descr_ind+len('Description')+2:-2]\n",
    "\n",
    "    output_header_lines = []\n",
    "    ind = substring.find(',')\n",
    "    print(f'ind: {ind}, type(ind): {type(ind)}')\n",
    "    while ind >= 0:\n",
    "        new_substring = substring.replace(',', '')\n",
    "        new_line = line[:descr_ind+len('Description')+2] + new_line + entire_line[-2:]\n",
    "        print(f'new_line: {new_line}')\n",
    "        # output_header_lines.append(new_line + )\n",
    "        new_substring = new_substring.replace(',', '')\n",
    "        ind = new_substring.find(',')\n",
    "\n",
    "print(f'output_header_lines: {output_header_lines}')"
   ]
  },
  {
   "cell_type": "code",
   "execution_count": 21,
   "id": "2c7eaae9",
   "metadata": {},
   "outputs": [
    {
     "name": "stdout",
     "output_type": "stream",
     "text": [
      "original info line: ##INFO=<ID=AF,Number=A,Type=Float,Description=\"Allele Frequency, for each ALT allele, in the same order as listed\">\n",
      "ind: 10, type(ind): <class 'int'>\n",
      "new_line: ##FORMAT=<ID=PL,Number=G,Type=Integer,Description=\"Normalized Phred-scaled likelihoods for genotypes as defined in the VCF specification\">\n",
      "ind: 16, type(ind): <class 'int'>\n",
      "new_line: ##INFO=<ID=AF,Number=A,Type=Float,Description=\"Allele Frequency for each ALT allele in the same order as listed\">\n",
      "output_header_lines: []\n"
     ]
    }
   ],
   "source": [
    "# extending to multiple lines (1. FORMAT, 2. INFO) - WORKS\n",
    "\n",
    "format_line = '##FORMAT=<ID=PL,Number=G,Type=Integer,Description=\"Normalized, Phred-scaled likelihoods for genotypes, as defined in the VCF specification\">'\n",
    "info_line = '##INFO=<ID=AF,Number=A,Type=Float,Description=\"Allele Frequency, for each ALT allele, in the same order as listed\">'\n",
    "print(f'original info line: {info_line}')\n",
    "input_header_lines = [format_line, info_line]\n",
    "for line in input_header_lines:\n",
    "    descr_ind = line.find('Description')\n",
    "    substring = line[descr_ind+len('Description')+2:-2]\n",
    "\n",
    "    output_header_lines = []\n",
    "    ind = substring.find(',')\n",
    "    print(f'ind: {ind}, type(ind): {type(ind)}')\n",
    "    while ind >= 0:\n",
    "        new_substring = substring.replace(',', '')\n",
    "        new_line = line[:descr_ind+len('Description')+2] + new_substring + line[-2:]\n",
    "        print(f'new_line: {new_line}')\n",
    "        # output_header_lines.append(new_line + )\n",
    "        new_substring = new_substring.replace(',', '')\n",
    "        ind = new_substring.find(',')\n",
    "\n",
    "print(f'output_header_lines: {output_header_lines}')"
   ]
  },
  {
   "cell_type": "code",
   "execution_count": 23,
   "id": "46007f1b",
   "metadata": {},
   "outputs": [
    {
     "name": "stdout",
     "output_type": "stream",
     "text": [
      "new_line: ##FORMAT=<ID=PL,Number=G,Type=Integer,Description=\"Normalized Phred-scaled likelihoods for genotypes as defined in the VCF specification\">\n",
      "new_line: ##INFO=<ID=AF,Number=A,Type=Float,Description=\"Allele Frequency for each ALT allele in the same order as listed\">\n",
      "output_header_lines: ['##INFO=<ID=AF,Number=A,Type=Float,Description=\"Allele Frequency for each ALT allele in the same order as listed\">\\n']\n"
     ]
    }
   ],
   "source": [
    "# extending to multiple lines and adding to output header lines list\n",
    "\n",
    "format_line = '##FORMAT=<ID=PL,Number=G,Type=Integer,Description=\"Normalized, Phred-scaled likelihoods for genotypes, as defined in the VCF specification\">'\n",
    "info_line = '##INFO=<ID=AF,Number=A,Type=Float,Description=\"Allele Frequency, for each ALT allele, in the same order as listed\">'\n",
    "input_header_lines = [format_line, info_line]\n",
    "for line in input_header_lines:\n",
    "    descr_ind = line.find('Description')\n",
    "    substring = line[descr_ind+len('Description')+2:-2]\n",
    "\n",
    "    output_header_lines = []\n",
    "    ind = substring.find(',')\n",
    "    while ind >= 0:\n",
    "        new_substring = substring.replace(',', '')\n",
    "        new_line = line[:descr_ind+len('Description')+2] + new_substring + line[-2:]\n",
    "        print(f'new_line: {new_line}')\n",
    "        output_header_lines.append(new_line + '\\n')\n",
    "        new_substring = new_substring.replace(',', '')\n",
    "        ind = new_substring.find(',')\n",
    "\n",
    "print(f'output_header_lines: {output_header_lines}')"
   ]
  },
  {
   "cell_type": "code",
   "execution_count": 33,
   "id": "0efbc723",
   "metadata": {},
   "outputs": [
    {
     "name": "stdout",
     "output_type": "stream",
     "text": [
      "output_header_lines: []\n",
      "new_substring: Normalized Phred-scaled likelihoods for genotypes as defined in the VCF specification\n",
      "new_line: ##FORMAT=<ID=PL,Number=G,Type=Integer,Description=\"Normalized Phred-scaled likelihoods for genotypes as defined in the VCF specification\">\n",
      "output_header_lines: ['##FORMAT=<ID=PL,Number=G,Type=Integer,Description=\"Normalized Phred-scaled likelihoods for genotypes as defined in the VCF specification\">\\n']\n"
     ]
    }
   ],
   "source": [
    "# extending to multiple lines and adding to output header lines list - using just format line\n",
    "\n",
    "format_line = '##FORMAT=<ID=PL,Number=G,Type=Integer,Description=\"Normalized, Phred-scaled likelihoods for genotypes, as defined in the VCF specification\">'\n",
    "# info_line = '##INFO=<ID=AF,Number=A,Type=Float,Description=\"Allele Frequency, for each ALT allele, in the same order as listed\">'\n",
    "# input_header_lines = [format_line, info_line]\n",
    "input_header_lines = [format_line]\n",
    "for line in input_header_lines:\n",
    "    descr_ind = line.find('Description')\n",
    "    substring = line[descr_ind+len('Description')+2:-2]\n",
    "\n",
    "    output_header_lines = []\n",
    "    ind = substring.find(',')\n",
    "    while ind >= 0:\n",
    "        print(f'output_header_lines: {output_header_lines}')\n",
    "        new_substring = substring.replace(',', '')\n",
    "        print(f'new_substring: {new_substring}')\n",
    "        new_line = line[:descr_ind+len('Description')+2] + new_substring + line[-2:]\n",
    "        print(f'new_line: {new_line}')\n",
    "        #output_header_lines.append(new_line + '\\n')\n",
    "        new_substring = new_substring.replace(',', '')\n",
    "        output_header_lines.append(new_line + '\\n')\n",
    "        ind = new_substring.find(',')\n",
    "\n",
    "print(f'output_header_lines: {output_header_lines}')"
   ]
  },
  {
   "cell_type": "code",
   "execution_count": 1,
   "id": "7d16bb7e",
   "metadata": {},
   "outputs": [
    {
     "name": "stdout",
     "output_type": "stream",
     "text": [
      "output_header_lines: []\n",
      "new_substring: Normalized Phred-scaled likelihoods for genotypes as defined in the VCF specification\n",
      "new_line: ##FORMAT=<ID=PL,Number=G,Type=Integer,Description=\"Normalized Phred-scaled likelihoods for genotypes as defined in the VCF specification\">\n",
      "output_header_lines: []\n",
      "new_substring: Allele Frequency for each ALT allele in the same order as listed\n",
      "new_line: ##INFO=<ID=AF,Number=A,Type=Float,Description=\"Allele Frequency for each ALT allele in the same order as listed\">\n",
      "output_header_lines: ['##INFO=<ID=AF,Number=A,Type=Float,Description=\"Allele Frequency for each ALT allele in the same order as listed\">\\n']\n"
     ]
    }
   ],
   "source": [
    "# extending to multiple lines and adding to output header lines list\n",
    "\n",
    "format_line = '##FORMAT=<ID=PL,Number=G,Type=Integer,Description=\"Normalized, Phred-scaled likelihoods for genotypes, as defined in the VCF specification\">'\n",
    "info_line = '##INFO=<ID=AF,Number=A,Type=Float,Description=\"Allele Frequency, for each ALT allele, in the same order as listed\">'\n",
    "input_header_lines = [format_line, info_line]\n",
    "# input_header_lines = [format_line]\n",
    "for line in input_header_lines:\n",
    "    descr_ind = line.find('Description')\n",
    "    substring = line[descr_ind+len('Description')+2:-2]\n",
    "\n",
    "    output_header_lines = []\n",
    "    ind = substring.find(',')\n",
    "    while ind >= 0:\n",
    "        print(f'output_header_lines: {output_header_lines}')\n",
    "        new_substring = substring.replace(',', '')\n",
    "        print(f'new_substring: {new_substring}')\n",
    "        new_line = line[:descr_ind+len('Description')+2] + new_substring + line[-2:]\n",
    "        print(f'new_line: {new_line}')\n",
    "        #output_header_lines.append(new_line + '\\n')\n",
    "        new_substring = new_substring.replace(',', '')\n",
    "        output_header_lines.append(new_line + '\\n')\n",
    "        ind = new_substring.find(',')\n",
    "\n",
    "print(f'output_header_lines: {output_header_lines}')"
   ]
  },
  {
   "cell_type": "code",
   "execution_count": 4,
   "id": "9f9bc8bf",
   "metadata": {},
   "outputs": [
    {
     "name": "stdout",
     "output_type": "stream",
     "text": [
      "output_header_lines: []\n",
      "substring: Normalized, Phred-scaled likelihoods for genotypes, as defined in the VCF specification\n",
      "new_substring: Normalized Phred-scaled likelihoods for genotypes as defined in the VCF specification\n",
      "new_line: ##FORMAT=<ID=PL,Number=G,Type=Integer,Description=\"Normalized Phred-scaled likelihoods for genotypes as defined in the VCF specification\">\n",
      "output_header_lines: []\n",
      "substring: Allele Frequency, for each ALT allele, in the same order as listed\n",
      "new_substring: Allele Frequency for each ALT allele in the same order as listed\n",
      "new_line: ##INFO=<ID=AF,Number=A,Type=Float,Description=\"Allele Frequency for each ALT allele in the same order as listed\">\n",
      "output_header_lines: ['##INFO=<ID=AF,Number=A,Type=Float,Description=\"Allele Frequency for each ALT allele in the same order as listed\">\\n']\n"
     ]
    }
   ],
   "source": [
    "# extending to multiple lines and adding to output header lines list\n",
    "\n",
    "format_line = '##FORMAT=<ID=PL,Number=G,Type=Integer,Description=\"Normalized, Phred-scaled likelihoods for genotypes, as defined in the VCF specification\">'\n",
    "info_line = '##INFO=<ID=AF,Number=A,Type=Float,Description=\"Allele Frequency, for each ALT allele, in the same order as listed\">'\n",
    "input_header_lines = [format_line, info_line]\n",
    "# input_header_lines = [format_line]\n",
    "for line in input_header_lines:\n",
    "    descr_ind = line.find('Description')\n",
    "    substring = line[descr_ind+len('Description')+2:-2]\n",
    "\n",
    "    output_header_lines = []\n",
    "    ind = substring.find(',')\n",
    "    while ind >= 0:\n",
    "        print(f'output_header_lines: {output_header_lines}')\n",
    "        print(f'substring: {substring}')\n",
    "        new_substring = substring.replace(',', '')\n",
    "        print(f'new_substring: {new_substring}')\n",
    "#         new_line = line[:descr_ind+len('Description')+2] + new_substring + line[-2:]\n",
    "#         print(f'new_line: {new_line}')\n",
    "#         output_header_lines.append(new_line + '\\n')\n",
    "        # new_substring = new_substring.replace(',', '')\n",
    "        ind = new_substring.find(',')\n",
    "\n",
    "    new_line = line[:descr_ind+len('Description')+2] + new_substring + line[-2:]\n",
    "    print(f'new_line: {new_line}')\n",
    "    output_header_lines.append(new_line + '\\n')\n",
    "\n",
    "print(f'output_header_lines: {output_header_lines}')"
   ]
  },
  {
   "cell_type": "code",
   "execution_count": 5,
   "id": "691966c2",
   "metadata": {},
   "outputs": [
    {
     "name": "stdout",
     "output_type": "stream",
     "text": [
      "output_header_lines: []\n",
      "substring: Normalized, Phred-scaled likelihoods for genotypes, as defined in the VCF specification\n",
      "new_substring: Normalized Phred-scaled likelihoods for genotypes as defined in the VCF specification\n",
      "new_line: ##FORMAT=<ID=PL,Number=G,Type=Integer,Description=\"Normalized Phred-scaled likelihoods for genotypes as defined in the VCF specification\">\n",
      "output_header_lines: ['##FORMAT=<ID=PL,Number=G,Type=Integer,Description=\"Normalized Phred-scaled likelihoods for genotypes as defined in the VCF specification\">\\n']\n"
     ]
    }
   ],
   "source": [
    "# extending to multiple lines and adding to output header lines list\n",
    "\n",
    "format_line = '##FORMAT=<ID=PL,Number=G,Type=Integer,Description=\"Normalized, Phred-scaled likelihoods for genotypes, as defined in the VCF specification\">'\n",
    "# info_line = '##INFO=<ID=AF,Number=A,Type=Float,Description=\"Allele Frequency, for each ALT allele, in the same order as listed\">'\n",
    "# input_header_lines = [format_line, info_line]\n",
    "input_header_lines = [format_line]\n",
    "for line in input_header_lines:\n",
    "    descr_ind = line.find('Description')\n",
    "    substring = line[descr_ind+len('Description')+2:-2]\n",
    "\n",
    "    output_header_lines = []\n",
    "    ind = substring.find(',')\n",
    "    while ind >= 0:\n",
    "        print(f'output_header_lines: {output_header_lines}')\n",
    "        print(f'substring: {substring}')\n",
    "        new_substring = substring.replace(',', '')\n",
    "        print(f'new_substring: {new_substring}')\n",
    "        ind = new_substring.find(',')\n",
    "\n",
    "    new_line = line[:descr_ind+len('Description')+2] + new_substring + line[-2:]\n",
    "    print(f'new_line: {new_line}')\n",
    "    output_header_lines.append(new_line + '\\n')\n",
    "\n",
    "print(f'output_header_lines: {output_header_lines}')"
   ]
  },
  {
   "cell_type": "code",
   "execution_count": 6,
   "id": "f675d403",
   "metadata": {},
   "outputs": [
    {
     "name": "stdout",
     "output_type": "stream",
     "text": [
      "output line: ##FORMAT=<ID=PL,Number=G,Type=Integer,Description=Normalized Phred-scaled likelihoods for genotypes as defined in the VCF specification\">\n",
      "output line: ##INFO=<ID=AF,Number=A,Type=Float,Description=Allele Frequency for each ALT allele in the same order as listed\">\n"
     ]
    }
   ],
   "source": [
    "# changing indexing\n",
    "\n",
    "format_line = '##FORMAT=<ID=PL,Number=G,Type=Integer,Description=\"Normalized, Phred-scaled likelihoods for genotypes, as defined in the VCF specification\">'\n",
    "info_line = '##INFO=<ID=AF,Number=A,Type=Float,Description=\"Allele Frequency, for each ALT allele, in the same order as listed\">'\n",
    "input_header_lines = [format_line, info_line]\n",
    "# input_header_lines = [format_line]\n",
    "for line in input_header_lines:\n",
    "    descr_ind = line.find('Description')\n",
    "    if descr_ind >= 0:\n",
    "        quotation1 = line.find('\"', descr_ind + 1)\n",
    "        quotation2 = line.find('\"', quotation1 + 1)\n",
    "        substring = line[quotation1 + 1:quotation2]\n",
    "        \n",
    "    # output_header_lines = []\n",
    "        ind = substring.find(',')\n",
    "        while ind >= 0:\n",
    "            substring_out = substring.replace(',', '')\n",
    "            line_out = line[:quotation1] + substring_out + line[quotation2:]\n",
    "            print(f'output line: {line_out}')\n",
    "            ind = substring_out.find(',')"
   ]
  },
  {
   "cell_type": "code",
   "execution_count": 1,
   "id": "d5000d88",
   "metadata": {},
   "outputs": [
    {
     "name": "stdout",
     "output_type": "stream",
     "text": [
      "descr_ind: 38\n",
      "quotation1: 50, (len('Description') + 2): 13\n",
      "output line: ##FORMAT=<ID=PL,Number=G,Type=Integer,Description=\"Normalized Phred-scaled likelihoods for genotypes as defined in the VCF specification\">\n",
      "descr_ind: 34\n",
      "quotation1: 46, (len('Description') + 2): 13\n",
      "output line: ##INFO=<ID=AF,Number=A,Type=Float,Description=\"Allele Frequency for each ALT allele in the same order as listed\">\n"
     ]
    }
   ],
   "source": [
    "# changing indexing\n",
    "#              0123456789 123456789 123456789 123456789 123456789 123456789\n",
    "format_line = '##FORMAT=<ID=PL,Number=G,Type=Integer,Description=\"Normalized, Phred-scaled likelihoods for genotypes, as defined in the VCF specification\">'\n",
    "info_line =   '##INFO=<ID=AF,Number=A,Type=Float,Description=\"Allele Frequency, for each ALT allele, in the same order as listed\">'\n",
    "input_header_lines = [format_line, info_line]\n",
    "# input_header_lines = [format_line]\n",
    "for line in input_header_lines:\n",
    "    descr_ind = line.find('Description')\n",
    "    print(f'descr_ind: {descr_ind}')\n",
    "    if descr_ind >= 0:\n",
    "        quotation1 = line.find('\"', descr_ind + len('Description') + 1)\n",
    "        print(f\"quotation1: {quotation1}, (len('Description') + 2): {len('Description') + 2}\")\n",
    "        quotation2 = line.find('\"', quotation1 + 1)\n",
    "        substring = line[quotation1 + 1:quotation2]\n",
    "        \n",
    "    # output_header_lines = []\n",
    "        ind = substring.find(',')\n",
    "        while ind >= 0:\n",
    "            substring_out = substring.replace(',', '')\n",
    "            line_out = line[:quotation1 + 1] + substring_out + line[quotation2:]\n",
    "            print(f'output line: {line_out}')\n",
    "            ind = substring_out.find(',')\n"
   ]
  },
  {
   "cell_type": "code",
   "execution_count": 10,
   "id": "07207d4b",
   "metadata": {},
   "outputs": [
    {
     "name": "stdout",
     "output_type": "stream",
     "text": [
      "output line: ##FORMAT=<ID=PL,Number=G,Type=Integer,Description=Normalized Phred-scaled likelihoods for genotypes as defined in the VCF specification\">\n",
      "output header lines: ['##FORMAT=<ID=PL,Number=G,Type=Integer,Description=Normalized Phred-scaled likelihoods for genotypes as defined in the VCF specification\">']\n",
      "output line: ##INFO=<ID=AF,Number=A,Type=Float,Description=Allele Frequency for each ALT allele in the same order as listed\">\n",
      "output header lines: ['##INFO=<ID=AF,Number=A,Type=Float,Description=Allele Frequency for each ALT allele in the same order as listed\">']\n",
      "\n",
      "output header lines: ['##INFO=<ID=AF,Number=A,Type=Float,Description=Allele Frequency for each ALT allele in the same order as listed\">']\n"
     ]
    }
   ],
   "source": [
    "# extending to multiple lines and adding to output header lines list\n",
    "\n",
    "format_line = '##FORMAT=<ID=PL,Number=G,Type=Integer,Description=\"Normalized, Phred-scaled likelihoods for genotypes, as defined in the VCF specification\">'\n",
    "info_line = '##INFO=<ID=AF,Number=A,Type=Float,Description=\"Allele Frequency, for each ALT allele, in the same order as listed\">'\n",
    "input_header_lines = [format_line, info_line]\n",
    "# input_header_lines = [format_line]\n",
    "for line in input_header_lines:\n",
    "    descr_ind = line.find('Description')\n",
    "    if descr_ind >= 0:\n",
    "        quotation1 = line.find('\"', descr_ind + len('Description') + 1)\n",
    "        quotation2 = line.find('\"', quotation1 + 1)\n",
    "        substring = line[quotation1 + 1:quotation2]\n",
    "        \n",
    "        output_header_lines = []\n",
    "        ind = substring.find(',')\n",
    "        while ind >= 0:\n",
    "            substring_out = substring.replace(',', '')\n",
    "            line_out = line[:quotation1 + 1] + substring_out + line[quotation2:]\n",
    "            print(f'output line: {line_out}')\n",
    "            output_header_lines.append(line_out)\n",
    "            print(f'output header lines: {output_header_lines}')\n",
    "            ind = substring_out.find(',')\n",
    "\n",
    "print()\n",
    "print(f'output header lines: {output_header_lines}')"
   ]
  },
  {
   "cell_type": "code",
   "execution_count": 2,
   "id": "11a66ff4",
   "metadata": {},
   "outputs": [
    {
     "name": "stdout",
     "output_type": "stream",
     "text": [
      "output line: ##FORMAT=<ID=PL,Number=G,Type=Integer,Description=\"Normalized Phred-scaled likelihoods for genotypes as defined in the VCF specification\">\n",
      "output header lines: ['##FORMAT=<ID=PL,Number=G,Type=Integer,Description=\"Normalized Phred-scaled likelihoods for genotypes as defined in the VCF specification\">']\n",
      "output line: ##INFO=<ID=AF,Number=A,Type=Float,Description=\"Allele Frequency for each ALT allele in the same order as listed\">\n",
      "output header lines: ['##FORMAT=<ID=PL,Number=G,Type=Integer,Description=\"Normalized Phred-scaled likelihoods for genotypes as defined in the VCF specification\">', '##INFO=<ID=AF,Number=A,Type=Float,Description=\"Allele Frequency for each ALT allele in the same order as listed\">']\n",
      "\n",
      "output header lines: ['##FORMAT=<ID=PL,Number=G,Type=Integer,Description=\"Normalized Phred-scaled likelihoods for genotypes as defined in the VCF specification\">', '##INFO=<ID=AF,Number=A,Type=Float,Description=\"Allele Frequency for each ALT allele in the same order as listed\">']\n"
     ]
    }
   ],
   "source": [
    "# extending to multiple lines and adding to output header lines list - WORKS\n",
    "\n",
    "format_line = '##FORMAT=<ID=PL,Number=G,Type=Integer,Description=\"Normalized, Phred-scaled likelihoods for genotypes, as defined in the VCF specification\">'\n",
    "info_line = '##INFO=<ID=AF,Number=A,Type=Float,Description=\"Allele Frequency, for each ALT allele, in the same order as listed\">'\n",
    "input_header_lines = [format_line, info_line]\n",
    "# input_header_lines = [format_line\n",
    "output_header_lines = []\n",
    "for line in input_header_lines:\n",
    "    descr_ind = line.find('Description')\n",
    "    if descr_ind >= 0:\n",
    "        quotation1 = line.find('\"', descr_ind + len('Description') + 1)\n",
    "        quotation2 = line.find('\"', quotation1 + 1)\n",
    "        substring = line[quotation1 + 1:quotation2]\n",
    "        \n",
    "        ind = substring.find(',')\n",
    "        while ind >= 0:\n",
    "            substring_out = substring.replace(',', '')\n",
    "            line_out = line[:quotation1 + 1] + substring_out + line[quotation2:]\n",
    "            print(f'output line: {line_out}')\n",
    "            output_header_lines.append(line_out)\n",
    "            print(f'output header lines: {output_header_lines}')\n",
    "            ind = substring_out.find(',')\n",
    "\n",
    "print()\n",
    "print(f'output header lines: {output_header_lines}')"
   ]
  },
  {
   "cell_type": "code",
   "execution_count": 5,
   "id": "6b9a402f",
   "metadata": {},
   "outputs": [
    {
     "name": "stdout",
     "output_type": "stream",
     "text": [
      "\n",
      "output header lines: ['##FORMAT=<ID=GT,Number=1,Type=String,Description=\"Genotype\">', '##FORMAT=<ID=PL,Number=G,Type=Integer,Description=\"Normalized Phred-scaled likelihoods for genotypes as defined in the VCF specification\">', '##INFO=<ID=AF,Number=A,Type=Float,Description=\"Allele Frequency for each ALT allele in the same order as listed\">']\n"
     ]
    }
   ],
   "source": [
    "# adding lines that don't have comma in the Description tag - WORKS\n",
    "\n",
    "format_line1 = '##FORMAT=<ID=GT,Number=1,Type=String,Description=\"Genotype\">'\n",
    "format_line2 = '##FORMAT=<ID=PL,Number=G,Type=Integer,Description=\"Normalized, Phred-scaled likelihoods for genotypes, as defined in the VCF specification\">'\n",
    "info_line = '##INFO=<ID=AF,Number=A,Type=Float,Description=\"Allele Frequency, for each ALT allele, in the same order as listed\">'\n",
    "input_header_lines = [format_line1, format_line2, info_line]\n",
    "\n",
    "output_header_lines = []\n",
    "for line in input_header_lines:\n",
    "    descr_ind = line.find('Description')\n",
    "    if descr_ind >= 0:\n",
    "        quotation1 = line.find('\"', descr_ind + len('Description') + 1)\n",
    "        quotation2 = line.find('\"', quotation1 + 1)\n",
    "        substring = line[quotation1 + 1:quotation2]\n",
    "        # print(f'substring: {substring}')\n",
    "        \n",
    "        ind = substring.find(',')\n",
    "        if ind == -1:\n",
    "            output_header_lines.append(line)\n",
    "\n",
    "        while ind >= 0:\n",
    "            substring_out = substring.replace(',', '')\n",
    "            # print(f'line[:quotation1]: {line[:quotation1]}')\n",
    "            line_out = line[:quotation1 + 1] + substring_out + line[quotation2:]\n",
    "            # print(f'output line: {line_out}')\n",
    "            output_header_lines.append(line_out)\n",
    "            ind = substring_out.find(',')\n",
    "\n",
    "print()\n",
    "print(f'output header lines: {output_header_lines}')"
   ]
  },
  {
   "cell_type": "code",
   "execution_count": 7,
   "id": "d21fb594",
   "metadata": {},
   "outputs": [
    {
     "name": "stdout",
     "output_type": "stream",
     "text": [
      "\n",
      "header_edited_chr3_new.txt written\n"
     ]
    }
   ],
   "source": [
    "# moving to reading from file\n",
    "\n",
    "# format_line1 = '##FORMAT=<ID=GT,Number=1,Type=String,Description=\"Genotype\">'\n",
    "# format_line2 = '##FORMAT=<ID=PL,Number=G,Type=Integer,Description=\"Normalized, Phred-scaled likelihoods for genotypes, as defined in the VCF specification\">'\n",
    "# info_line = '##INFO=<ID=AF,Number=A,Type=Float,Description=\"Allele Frequency, for each ALT allele, in the same order as listed\">'\n",
    "# input_header_lines = [format_line1, format_line2, info_line]\n",
    "\n",
    "\n",
    "with open('header_edited_chr3_new.txt', 'w') as output_file:\n",
    "    with open('header_chr3.txt') as input_file:\n",
    "        input_header_lines = input_file.readlines()\n",
    "\n",
    "        for input_line in input_header_lines:\n",
    "            descr_ind = input_line.find('Description')\n",
    "            if descr_ind >= 0:\n",
    "                quotation1 = input_line.find('\"', descr_ind + len('Description') + 1)\n",
    "                quotation2 = input_line.find('\"', quotation1 + 1)\n",
    "                substring = input_line[quotation1 + 1:quotation2]\n",
    "                # print(f'substring: {substring}')\n",
    "\n",
    "                ind = substring.find(',')\n",
    "                if ind == -1:\n",
    "                    output_file.write(input_line)\n",
    "\n",
    "                while ind >= 0:\n",
    "                    substring_out = substring.replace(',', '')\n",
    "                    # print(f'line[:quotation1]: {line[:quotation1]}')\n",
    "                    output_line = line[:quotation1 + 1] + substring_out + line[quotation2:]\n",
    "                    # print(f'output line: {line_out}')\n",
    "                    output_file.write(output_line)\n",
    "                    ind = substring_out.find(',')\n",
    "\n",
    "print()\n",
    "output_file = 'header_edited_chr3_new.txt'\n",
    "print(f'{output_file} written')"
   ]
  },
  {
   "cell_type": "code",
   "execution_count": 8,
   "id": "e45095fb",
   "metadata": {},
   "outputs": [
    {
     "name": "stdout",
     "output_type": "stream",
     "text": [
      "number of input header lines: 3427\n"
     ]
    }
   ],
   "source": [
    "with open('header_chr3.txt') as input_file:\n",
    "    input_header_lines = input_file.readlines()\n",
    "print(f'number of input header lines: {len(input_header_lines)}')"
   ]
  },
  {
   "cell_type": "code",
   "execution_count": 19,
   "id": "1e5856e0",
   "metadata": {},
   "outputs": [
    {
     "name": "stdout",
     "output_type": "stream",
     "text": [
      "\n",
      "header_edited_chr3_041923.txt written\n"
     ]
    }
   ],
   "source": [
    "# moving to reading from file - adding all other header lines to output file\n",
    "\n",
    "with open('header_edited_chr3_041923.txt', 'w') as output_file:\n",
    "    with open('header_chr3.txt') as input_file:\n",
    "        input_header_lines = input_file.readlines()\n",
    "\n",
    "        for input_line in input_header_lines:\n",
    "            descr_ind = input_line.find('Description')\n",
    "            if descr_ind >= 0:\n",
    "                quotation1 = input_line.find('\"', descr_ind + len('Description') + 1)\n",
    "                quotation2 = input_line.find('\"', quotation1 + 1)\n",
    "                substring = input_line[quotation1 + 1:quotation2]\n",
    "                # print(f'substring: {substring}')\n",
    "\n",
    "                ind = substring.find(',')\n",
    "                if ind == -1:\n",
    "                    output_file.write(input_line)\n",
    "\n",
    "                while ind >= 0:\n",
    "                    substring_out = substring.replace(',', '')\n",
    "                    # print(f'line[:quotation1]: {line[:quotation1]}')\n",
    "                    output_line = line[:quotation1 + 1] + substring_out + line[quotation2:]\n",
    "                    # print(f'output line: {line_out}')\n",
    "                    output_file.write(output_line)\n",
    "                    ind = substring_out.find(',')\n",
    "\n",
    "            else:\n",
    "                output_file.write(input_line)\n",
    "\n",
    "print()\n",
    "output_file = 'header_edited_chr3_041923.txt'\n",
    "print(f'{output_file} written')"
   ]
  },
  {
   "cell_type": "code",
   "execution_count": 15,
   "id": "4eff7230",
   "metadata": {},
   "outputs": [
    {
     "name": "stdout",
     "output_type": "stream",
     "text": [
      "number of edited header lines: 3418\n",
      "number of input header lines: 3427\n",
      "##FORMAT=<ID=PGT,Number=1,Type=String,Description=\"Physical phasing haplotype information, describing how the alternate alleles are phased in relation to one another\">\n",
      "\n",
      "##FORMAT=<ID=PID,Number=1,Type=String,Description=\"Physical phasing ID information, where each unique ID within a given sample (but not across samples) connects records within a phasing group\">\n",
      "\n",
      "##FORMAT=<ID=PL,Number=G,Type=Integer,Description=\"Normalized, Phred-scaled likelihoods for genotypes as defined in the VCF specification\">\n",
      "\n",
      "##FORMAT=<ID=RGQ,Number=1,Type=Integer,Description=\"Unconditional reference genotype confidence, encoded as a phred quality -10*log10 p(genotype call is wrong)\">\n",
      "\n",
      "##FORMAT=<ID=SB,Number=4,Type=Integer,Description=\"Per-sample component statistics which comprise the Fisher's Exact Test to detect strand bias.\">\n",
      "\n",
      "##INFO=<ID=AC,Number=A,Type=Integer,Description=\"Allele count in genotypes, for each ALT allele, in the same order as listed\">\n",
      "\n",
      "##INFO=<ID=AF,Number=A,Type=Float,Description=\"Allele Frequency, for each ALT allele, in the same order as listed\">\n",
      "\n",
      "##INFO=<ID=AN,Number=1,Type=Integer,Description=\"Total number of alleles in called genotypes\">\n",
      "\n",
      "##INFO=<ID=MLEAC,Number=A,Type=Integer,Description=\"Maximum likelihood expectation (MLE) for the allele counts (not necessarily the same as the AC), for each ALT allele, in the same order as listed\">\n",
      "\n",
      "##INFO=<ID=MLEAF,Number=A,Type=Float,Description=\"Maximum likelihood expectation (MLE) for the allele frequency (not necessarily the same as the AF), for each ALT allele, in the same order as listed\">\n",
      "\n",
      "##INFO=<ID=MQ,Number=1,Type=Float,Description=\"RMS Mapping Quality\">\n",
      "\n",
      "##INFO=<ID=culprit,Number=1,Type=String,Description=\"The annotation which was the worst performing in the Gaussian mixture model, likely the reason why the variant was filtered out\">\n",
      "\n",
      "##contig=<ID=chr1,length=248956422>\n",
      "\n"
     ]
    }
   ],
   "source": [
    "with open('header_edited_chr3_041923.txt') as edited_file:\n",
    "    edited_header_lines = edited_file.readlines()\n",
    "print(f'number of edited header lines: {len(edited_header_lines)}')\n",
    "\n",
    "with open('header_chr3.txt') as input_file:\n",
    "    input_header_lines = input_file.readlines()\n",
    "\n",
    "print(f'number of input header lines: {len(input_header_lines)}')\n",
    "\n",
    "for line in input_header_lines:\n",
    "    if line not in edited_header_lines:\n",
    "        print(line)"
   ]
  },
  {
   "cell_type": "code",
   "execution_count": 3,
   "id": "1175eb2d",
   "metadata": {},
   "outputs": [
    {
     "name": "stdout",
     "output_type": "stream",
     "text": [
      "substring: All filters passed\n",
      "substring: Represents any possible alternative allele at this location\n",
      "substring: ExcessHet > 54.69\n",
      "substring: Low quality\n",
      "substring: Truth sensitivity tranche level for INDEL model at VQS Lod: -15.3159 <= x < -9.2169\n",
      "substring: Truth sensitivity tranche level for INDEL model at VQS Lod < -82623.4359\n",
      "substring: Truth sensitivity tranche level for INDEL model at VQS Lod: -82623.4359 <= x < -15.3159\n",
      "substring: Truth sensitivity tranche level for SNP model at VQS Lod: -11.6311 <= x < -4.4335\n",
      "substring: Truth sensitivity tranche level for SNP model at VQS Lod: -34.0509 <= x < -11.6311\n",
      "substring: Truth sensitivity tranche level for SNP model at VQS Lod < -877581.2617\n",
      "substring: Truth sensitivity tranche level for SNP model at VQS Lod: -877581.2617 <= x < -34.0509\n",
      "substring: Allelic depths for the ref and alt alleles in the order listed\n",
      "substring: Approximate read depth (reads with MQ=255 or with bad mates are filtered)\n",
      "substring: Genotype Quality\n",
      "substring: Genotype\n",
      "substring: Minimum DP observed within the GVCF block\n",
      "substring: Physical phasing haplotype information, describing how the alternate alleles are phased in relation to one another\n",
      "input_line[:quotation1]: ##FORMAT=<ID=PGT,Number=1,Type=String,Description=\n",
      "output line: ##FORMAT=<ID=PGT,Number=1,Type=String,Description=\"Physical phasing haplotype information describing how the alternate alleles are phased in relation to one another\">\n",
      "\n",
      "substring: Physical phasing ID information, where each unique ID within a given sample (but not across samples) connects records within a phasing group\n",
      "input_line[:quotation1]: ##FORMAT=<ID=PID,Number=1,Type=String,Description=\n",
      "output line: ##FORMAT=<ID=PID,Number=1,Type=String,Description=\"Physical phasing ID information where each unique ID within a given sample (but not across samples) connects records within a phasing group\">\n",
      "\n",
      "substring: Normalized, Phred-scaled likelihoods for genotypes as defined in the VCF specification\n",
      "input_line[:quotation1]: ##FORMAT=<ID=PL,Number=G,Type=Integer,Description=\n",
      "output line: ##FORMAT=<ID=PL,Number=G,Type=Integer,Description=\"Normalized Phred-scaled likelihoods for genotypes as defined in the VCF specification\">\n",
      "\n",
      "substring: Unconditional reference genotype confidence, encoded as a phred quality -10*log10 p(genotype call is wrong)\n",
      "input_line[:quotation1]: ##FORMAT=<ID=RGQ,Number=1,Type=Integer,Description=\n",
      "output line: ##FORMAT=<ID=RGQ,Number=1,Type=Integer,Description=\"Unconditional reference genotype confidence encoded as a phred quality -10*log10 p(genotype call is wrong)\">\n",
      "\n",
      "substring: Per-sample component statistics which comprise the Fisher's Exact Test to detect strand bias.\n",
      "substring: Allele count in genotypes, for each ALT allele, in the same order as listed\n",
      "input_line[:quotation1]: ##INFO=<ID=AC,Number=A,Type=Integer,Description=\n",
      "output line: ##INFO=<ID=AC,Number=A,Type=Integer,Description=\"Allele count in genotypes for each ALT allele in the same order as listed\">\n",
      "\n",
      "substring: Allele Frequency, for each ALT allele, in the same order as listed\n",
      "input_line[:quotation1]: ##INFO=<ID=AF,Number=A,Type=Float,Description=\n",
      "output line: ##INFO=<ID=AF,Number=A,Type=Float,Description=\"Allele Frequency for each ALT allele in the same order as listed\">\n",
      "\n",
      "substring: Total number of alleles in called genotypes\n",
      "substring: Z-score from Wilcoxon rank sum test of Alt Vs. Ref base qualities\n",
      "substring: Z-score From Wilcoxon rank sum test of Alt vs. Ref number of hard clipped bases\n",
      "substring: dbSNP Membership\n",
      "substring: Approximate read depth; some reads may have been filtered\n",
      "substring: Were any of the samples downsampled?\n",
      "substring: Stop position of the interval\n",
      "substring: Phred-scaled p-value for exact test of excess heterozygosity\n",
      "substring: Phred-scaled p-value using Fisher's exact test to detect strand bias\n",
      "substring: Consistency of the site with at most two segregating haplotypes\n",
      "substring: Inbreeding coefficient as estimated from the genotype likelihoods per-sample when compared against the Hardy-Weinberg expectation\n",
      "substring: Maximum likelihood expectation (MLE) for the allele counts (not necessarily the same as the AC), for each ALT allele, in the same order as listed\n",
      "input_line[:quotation1]: ##INFO=<ID=MLEAC,Number=A,Type=Integer,Description=\n",
      "output line: ##INFO=<ID=MLEAC,Number=A,Type=Integer,Description=\"Maximum likelihood expectation (MLE) for the allele counts (not necessarily the same as the AC) for each ALT allele in the same order as listed\">\n",
      "\n",
      "substring: Maximum likelihood expectation (MLE) for the allele frequency (not necessarily the same as the AF), for each ALT allele, in the same order as listed\n",
      "input_line[:quotation1]: ##INFO=<ID=MLEAF,Number=A,Type=Float,Description=\n",
      "output line: ##INFO=<ID=MLEAF,Number=A,Type=Float,Description=\"Maximum likelihood expectation (MLE) for the allele frequency (not necessarily the same as the AF) for each ALT allele in the same order as listed\">\n",
      "\n",
      "substring: RMS Mapping Quality\n",
      "substring: Z-score From Wilcoxon rank sum test of Alt vs. Ref read mapping qualities\n",
      "substring: This variant was used to build the negative training set of bad variants\n",
      "substring: This variant was used to build the positive training set of good variants\n",
      "substring: Variant Confidence/Quality by Depth\n",
      "substring: Raw data for RMS Mapping Quality\n",
      "substring: Z-score from Wilcoxon rank sum test of Alt vs. Ref read position bias\n",
      "substring: Symmetric Odds Ratio of 2x2 contingency table to detect strand bias\n",
      "substring: Log odds of being a true variant versus being false under the trained gaussian mixture model\n",
      "substring: The annotation which was the worst performing in the Gaussian mixture model, likely the reason why the variant was filtered out\n",
      "input_line[:quotation1]: ##INFO=<ID=culprit,Number=1,Type=String,Description=\n",
      "output line: ##INFO=<ID=culprit,Number=1,Type=String,Description=\"The annotation which was the worst performing in the Gaussian mixture model likely the reason why the variant was filtered out\">\n",
      "\n"
     ]
    }
   ],
   "source": [
    "# moving to reading from file - adding all other header lines to output file - checking FORMAT/INFO lines\n",
    "\n",
    "with open('header_chr3.txt') as input_file:\n",
    "    input_header_lines = input_file.readlines()\n",
    "\n",
    "    for input_line in input_header_lines:\n",
    "#         if input_line.startswith('##FORMAT') or input_line.startswith('##INFO'):\n",
    "#             print(f'FORMAT/INFO input line: {input_line}')\n",
    "        descr_ind = input_line.find('Description')\n",
    "        if descr_ind >= 0:\n",
    "            quotation1 = input_line.find('\"', descr_ind + len('Description') + 1)\n",
    "            quotation2 = input_line.find('\"', quotation1 + 1)\n",
    "            substring = input_line[quotation1 + 1:quotation2]\n",
    "            print(f'substring: {substring}')\n",
    "\n",
    "            ind = substring.find(',')\n",
    "            # if ind == -1:\n",
    "            #     output_file.write(input_line)\n",
    "\n",
    "            while ind >= 0:\n",
    "                substring_out = substring.replace(',', '')\n",
    "                print(f'input_line[:quotation1]: {input_line[:quotation1]}')\n",
    "                output_line = input_line[:quotation1 + 1] + substring_out + input_line[quotation2:]\n",
    "                print(f'output line: {output_line}')\n",
    "                # output_file.write(output_line)\n",
    "                ind = substring_out.find(',')\n",
    "\n",
    "        # else:\n",
    "        #     output_file.write(input_line)\n",
    "\n",
    "# print()\n",
    "# output_file = 'header_edited_chr3_041923.txt'\n",
    "# print(f'{output_file} written')"
   ]
  },
  {
   "cell_type": "code",
   "execution_count": 4,
   "id": "fa5689ee",
   "metadata": {},
   "outputs": [
    {
     "name": "stdout",
     "output_type": "stream",
     "text": [
      "substring: All filters passed\n",
      "substring: Represents any possible alternative allele at this location\n",
      "substring: ExcessHet > 54.69\n",
      "substring: Low quality\n",
      "substring: Truth sensitivity tranche level for INDEL model at VQS Lod: -15.3159 <= x < -9.2169\n",
      "substring: Truth sensitivity tranche level for INDEL model at VQS Lod < -82623.4359\n",
      "substring: Truth sensitivity tranche level for INDEL model at VQS Lod: -82623.4359 <= x < -15.3159\n",
      "substring: Truth sensitivity tranche level for SNP model at VQS Lod: -11.6311 <= x < -4.4335\n",
      "substring: Truth sensitivity tranche level for SNP model at VQS Lod: -34.0509 <= x < -11.6311\n",
      "substring: Truth sensitivity tranche level for SNP model at VQS Lod < -877581.2617\n",
      "substring: Truth sensitivity tranche level for SNP model at VQS Lod: -877581.2617 <= x < -34.0509\n",
      "substring: Allelic depths for the ref and alt alleles in the order listed\n",
      "substring: Approximate read depth (reads with MQ=255 or with bad mates are filtered)\n",
      "substring: Genotype Quality\n",
      "substring: Genotype\n",
      "substring: Minimum DP observed within the GVCF block\n",
      "substring: Physical phasing haplotype information, describing how the alternate alleles are phased in relation to one another\n",
      "input_line[:quotation1]: ##FORMAT=<ID=PGT,Number=1,Type=String,Description=\n",
      "output line: ##FORMAT=<ID=PGT,Number=1,Type=String,Description=\"Physical phasing haplotype information describing how the alternate alleles are phased in relation to one another\">\n",
      "\n",
      "substring: Physical phasing ID information, where each unique ID within a given sample (but not across samples) connects records within a phasing group\n",
      "input_line[:quotation1]: ##FORMAT=<ID=PID,Number=1,Type=String,Description=\n",
      "output line: ##FORMAT=<ID=PID,Number=1,Type=String,Description=\"Physical phasing ID information where each unique ID within a given sample (but not across samples) connects records within a phasing group\">\n",
      "\n",
      "substring: Normalized, Phred-scaled likelihoods for genotypes as defined in the VCF specification\n",
      "input_line[:quotation1]: ##FORMAT=<ID=PL,Number=G,Type=Integer,Description=\n",
      "output line: ##FORMAT=<ID=PL,Number=G,Type=Integer,Description=\"Normalized Phred-scaled likelihoods for genotypes as defined in the VCF specification\">\n",
      "\n",
      "substring: Unconditional reference genotype confidence, encoded as a phred quality -10*log10 p(genotype call is wrong)\n",
      "input_line[:quotation1]: ##FORMAT=<ID=RGQ,Number=1,Type=Integer,Description=\n",
      "output line: ##FORMAT=<ID=RGQ,Number=1,Type=Integer,Description=\"Unconditional reference genotype confidence encoded as a phred quality -10*log10 p(genotype call is wrong)\">\n",
      "\n",
      "substring: Per-sample component statistics which comprise the Fisher's Exact Test to detect strand bias.\n",
      "substring: Allele count in genotypes, for each ALT allele, in the same order as listed\n",
      "input_line[:quotation1]: ##INFO=<ID=AC,Number=A,Type=Integer,Description=\n",
      "output line: ##INFO=<ID=AC,Number=A,Type=Integer,Description=\"Allele count in genotypes for each ALT allele in the same order as listed\">\n",
      "\n",
      "substring: Allele Frequency, for each ALT allele, in the same order as listed\n",
      "input_line[:quotation1]: ##INFO=<ID=AF,Number=A,Type=Float,Description=\n",
      "output line: ##INFO=<ID=AF,Number=A,Type=Float,Description=\"Allele Frequency for each ALT allele in the same order as listed\">\n",
      "\n",
      "substring: Total number of alleles in called genotypes\n",
      "substring: Z-score from Wilcoxon rank sum test of Alt Vs. Ref base qualities\n",
      "substring: Z-score From Wilcoxon rank sum test of Alt vs. Ref number of hard clipped bases\n",
      "substring: dbSNP Membership\n",
      "substring: Approximate read depth; some reads may have been filtered\n",
      "substring: Were any of the samples downsampled?\n",
      "substring: Stop position of the interval\n",
      "substring: Phred-scaled p-value for exact test of excess heterozygosity\n",
      "substring: Phred-scaled p-value using Fisher's exact test to detect strand bias\n",
      "substring: Consistency of the site with at most two segregating haplotypes\n",
      "substring: Inbreeding coefficient as estimated from the genotype likelihoods per-sample when compared against the Hardy-Weinberg expectation\n",
      "substring: Maximum likelihood expectation (MLE) for the allele counts (not necessarily the same as the AC), for each ALT allele, in the same order as listed\n",
      "input_line[:quotation1]: ##INFO=<ID=MLEAC,Number=A,Type=Integer,Description=\n",
      "output line: ##INFO=<ID=MLEAC,Number=A,Type=Integer,Description=\"Maximum likelihood expectation (MLE) for the allele counts (not necessarily the same as the AC) for each ALT allele in the same order as listed\">\n",
      "\n",
      "substring: Maximum likelihood expectation (MLE) for the allele frequency (not necessarily the same as the AF), for each ALT allele, in the same order as listed\n",
      "input_line[:quotation1]: ##INFO=<ID=MLEAF,Number=A,Type=Float,Description=\n",
      "output line: ##INFO=<ID=MLEAF,Number=A,Type=Float,Description=\"Maximum likelihood expectation (MLE) for the allele frequency (not necessarily the same as the AF) for each ALT allele in the same order as listed\">\n",
      "\n",
      "substring: RMS Mapping Quality\n",
      "substring: Z-score From Wilcoxon rank sum test of Alt vs. Ref read mapping qualities\n",
      "substring: This variant was used to build the negative training set of bad variants\n",
      "substring: This variant was used to build the positive training set of good variants\n",
      "substring: Variant Confidence/Quality by Depth\n",
      "substring: Raw data for RMS Mapping Quality\n",
      "substring: Z-score from Wilcoxon rank sum test of Alt vs. Ref read position bias\n",
      "substring: Symmetric Odds Ratio of 2x2 contingency table to detect strand bias\n",
      "substring: Log odds of being a true variant versus being false under the trained gaussian mixture model\n",
      "substring: The annotation which was the worst performing in the Gaussian mixture model, likely the reason why the variant was filtered out\n",
      "input_line[:quotation1]: ##INFO=<ID=culprit,Number=1,Type=String,Description=\n",
      "output line: ##INFO=<ID=culprit,Number=1,Type=String,Description=\"The annotation which was the worst performing in the Gaussian mixture model likely the reason why the variant was filtered out\">\n",
      "\n"
     ]
    }
   ],
   "source": [
    "# moving to reading from file - adding all other header lines to output file - checking FORMAT/INFO lines\n",
    "\n",
    "with open('header_chr3_edited_041923.txt', 'w') as output_file:\n",
    "    with open('header_chr3.txt') as input_file:\n",
    "        input_header_lines = input_file.readlines()\n",
    "\n",
    "        for input_line in input_header_lines:\n",
    "    #         if input_line.startswith('##FORMAT') or input_line.startswith('##INFO'):\n",
    "    #             print(f'FORMAT/INFO input line: {input_line}')\n",
    "            descr_ind = input_line.find('Description')\n",
    "            if descr_ind >= 0:\n",
    "                quotation1 = input_line.find('\"', descr_ind + len('Description') + 1)\n",
    "                quotation2 = input_line.find('\"', quotation1 + 1)\n",
    "                substring = input_line[quotation1 + 1:quotation2]\n",
    "                print(f'substring: {substring}')\n",
    "\n",
    "                ind = substring.find(',')\n",
    "                if ind == -1:\n",
    "                    output_file.write(input_line)\n",
    "\n",
    "                while ind >= 0:\n",
    "                    substring_out = substring.replace(',', '')\n",
    "                    print(f'input_line[:quotation1]: {input_line[:quotation1]}')\n",
    "                    output_line = input_line[:quotation1 + 1] + substring_out + input_line[quotation2:]\n",
    "                    print(f'output line: {output_line}')\n",
    "                    output_file.write(output_line)\n",
    "                    ind = substring_out.find(',')\n",
    "\n",
    "            else:\n",
    "                output_file.write(input_line)\n",
    "\n",
    "# print()\n",
    "# output_file = 'header_edited_chr3_041923.txt'\n",
    "# print(f'{output_file} written')"
   ]
  },
  {
   "cell_type": "code",
   "execution_count": 12,
   "id": "d09abadb",
   "metadata": {},
   "outputs": [
    {
     "name": "stdout",
     "output_type": "stream",
     "text": [
      "abc\n"
     ]
    }
   ],
   "source": [
    "s = 'abc'\n",
    "# s = s.replace('b', '')\n",
    "s.replace('b', '')\n",
    "print(s)"
   ]
  },
  {
   "cell_type": "code",
   "execution_count": 5,
   "id": "ef6f9488",
   "metadata": {},
   "outputs": [
    {
     "name": "stdout",
     "output_type": "stream",
     "text": [
      "['##contig=<ID=chr1length=248956422>', '##contig=<ID=chr2length=242193529>', '##contig=<ID=chr3length=198295559>', '##contig=<ID=chr4length=190214555>', '##contig=<ID=chr5length=181538259>', '##contig=<ID=chr6length=170805979>', '##contig=<ID=chr7length=159345973>', '##contig=<ID=chr8length=145138636>', '##contig=<ID=chr9length=138394717>', '##contig=<ID=chr10length=133797422>', '##INFO=<ID=QD,Number=1,Type=Float,Description=\"Variant Confidence/Quality by Depth\">', '##INFO=<ID=RAW_MQ,Number=1,Type=Float,Description=\"Raw data for RMS Mapping Quality\">']\n"
     ]
    }
   ],
   "source": [
    "# removing commas from contig lines\n",
    "\n",
    "contig_lines = ['##contig=<ID=chr1,length=248956422>',\n",
    "                '##contig=<ID=chr2,length=242193529>',\n",
    "                '##contig=<ID=chr3,length=198295559>',\n",
    "                '##contig=<ID=chr4,length=190214555>',\n",
    "                '##contig=<ID=chr5,length=181538259>',\n",
    "                '##contig=<ID=chr6,length=170805979>',\n",
    "                '##contig=<ID=chr7,length=159345973>',\n",
    "                '##contig=<ID=chr8,length=145138636>',\n",
    "                '##contig=<ID=chr9,length=138394717>',\n",
    "                '##contig=<ID=chr10,length=133797422>',\n",
    "                '##INFO=<ID=QD,Number=1,Type=Float,Description=\"Variant Confidence/Quality by Depth\">',\n",
    "                '##INFO=<ID=RAW_MQ,Number=1,Type=Float,Description=\"Raw data for RMS Mapping Quality\">']\n",
    "\n",
    "output_header_lines = []\n",
    "for line in contig_lines:\n",
    "    if line.startswith('##contig'):\n",
    "        new_line = line.replace(',', '')\n",
    "        output_header_lines.append(new_line)\n",
    "    else:\n",
    "        output_header_lines.append(line)\n",
    "\n",
    "print(output_header_lines)"
   ]
  },
  {
   "cell_type": "code",
   "execution_count": 6,
   "id": "7cfe30ac",
   "metadata": {},
   "outputs": [
    {
     "name": "stdout",
     "output_type": "stream",
     "text": [
      "['##contig=<ID=chr1 length=248956422>', '##contig=<ID=chr2 length=242193529>', '##contig=<ID=chr3 length=198295559>', '##contig=<ID=chr4 length=190214555>', '##contig=<ID=chr5 length=181538259>', '##contig=<ID=chr6 length=170805979>', '##contig=<ID=chr7 length=159345973>', '##contig=<ID=chr8 length=145138636>', '##contig=<ID=chr9 length=138394717>', '##contig=<ID=chr10 length=133797422>', '##INFO=<ID=QD,Number=1,Type=Float,Description=\"Variant Confidence/Quality by Depth\">', '##INFO=<ID=RAW_MQ,Number=1,Type=Float,Description=\"Raw data for RMS Mapping Quality\">']\n"
     ]
    }
   ],
   "source": [
    "# removing commas from contig lines\n",
    "\n",
    "contig_lines = ['##contig=<ID=chr1,length=248956422>',\n",
    "                '##contig=<ID=chr2,length=242193529>',\n",
    "                '##contig=<ID=chr3,length=198295559>',\n",
    "                '##contig=<ID=chr4,length=190214555>',\n",
    "                '##contig=<ID=chr5,length=181538259>',\n",
    "                '##contig=<ID=chr6,length=170805979>',\n",
    "                '##contig=<ID=chr7,length=159345973>',\n",
    "                '##contig=<ID=chr8,length=145138636>',\n",
    "                '##contig=<ID=chr9,length=138394717>',\n",
    "                '##contig=<ID=chr10,length=133797422>',\n",
    "                '##INFO=<ID=QD,Number=1,Type=Float,Description=\"Variant Confidence/Quality by Depth\">',\n",
    "                '##INFO=<ID=RAW_MQ,Number=1,Type=Float,Description=\"Raw data for RMS Mapping Quality\">']\n",
    "\n",
    "output_header_lines = []\n",
    "for line in contig_lines:\n",
    "    if line.startswith('##contig'):\n",
    "        new_line = line.replace(',', ' ')\n",
    "        output_header_lines.append(new_line)\n",
    "    else:\n",
    "        output_header_lines.append(line)\n",
    "\n",
    "print(output_header_lines)"
   ]
  },
  {
   "cell_type": "code",
   "execution_count": 11,
   "id": "937d7513",
   "metadata": {},
   "outputs": [
    {
     "name": "stdout",
     "output_type": "stream",
     "text": [
      "wrote output file\n",
      "number of lines in file: 3427\n"
     ]
    }
   ],
   "source": [
    "# removing commas from contig lines - extend to working with file\n",
    "\n",
    "with open('header.subset41513_edited.txt', 'w') as output_file:\n",
    "    with open('header.subset41513.txt') as input_file:\n",
    "        input_lines = input_file.readlines()\n",
    "        for line in input_lines:\n",
    "            if line.startswith('##contig'):\n",
    "                # print(f'contig line: {line}')\n",
    "                new_line = line.replace(',', ' ')\n",
    "                output_file.write(new_line)\n",
    "            else:\n",
    "                output_file.write(line)\n",
    "\n",
    "print(f'wrote output file')\n",
    "\n",
    "with open('header.subset41513_edited.txt') as f:\n",
    "    f_lines = f.readlines()\n",
    "\n",
    "print(f'number of lines in file: {len(f_lines)}')"
   ]
  },
  {
   "cell_type": "code",
   "execution_count": 1,
   "id": "4a56934b",
   "metadata": {},
   "outputs": [
    {
     "name": "stdout",
     "output_type": "stream",
     "text": [
      "wrote output file header.subset41513_edited.txt\n"
     ]
    }
   ],
   "source": [
    "# removing commas from contig lines - extend to working with file - writing this as function\n",
    "\n",
    "def edit_contig_lines_header(input_name, output_name):\n",
    "    \"\"\"\n",
    "    Function takes name of input file. It reads the file and removes commas from contig lines of VCF file.\n",
    "    It leaves all other lines unchanged. It writes edited contig lines and unchanged other lines to output file.\n",
    "    \"\"\"\n",
    "    with open(output_name, 'w') as output_file:\n",
    "        with open(input_name) as input_file:\n",
    "            input_header_lines = input_file.readlines()\n",
    "            for header_line in input_header_lines:\n",
    "                if header_line.startswith('##contig'):\n",
    "                    output_header_line = header_line.replace(',', ' ')\n",
    "                    output_file.write(output_header_line)\n",
    "                else:\n",
    "                    output_file.write(header_line)\n",
    "\n",
    "input_name = 'header.subset41513.txt'\n",
    "output_name = 'header.subset41513_edited.txt'\n",
    "print(f'wrote output file {output_name}')"
   ]
  },
  {
   "cell_type": "code",
   "execution_count": 7,
   "id": "5be91328",
   "metadata": {},
   "outputs": [
    {
     "name": "stdout",
     "output_type": "stream",
     "text": [
      "substring: All filters passed\n",
      "substring: Represents any possible alternative allele at this location\n",
      "substring: ExcessHet > 54.69\n",
      "substring: Low quality\n",
      "substring: Truth sensitivity tranche level for INDEL model at VQS Lod: -15.3159 <= x < -9.2169\n",
      "substring: Truth sensitivity tranche level for INDEL model at VQS Lod < -82623.4359\n",
      "substring: Truth sensitivity tranche level for INDEL model at VQS Lod: -82623.4359 <= x < -15.3159\n",
      "substring: Truth sensitivity tranche level for SNP model at VQS Lod: -11.6311 <= x < -4.4335\n",
      "substring: Truth sensitivity tranche level for SNP model at VQS Lod: -34.0509 <= x < -11.6311\n",
      "substring: Truth sensitivity tranche level for SNP model at VQS Lod < -877581.2617\n",
      "substring: Truth sensitivity tranche level for SNP model at VQS Lod: -877581.2617 <= x < -34.0509\n",
      "substring: Allelic depths for the ref and alt alleles in the order listed\n",
      "substring: Approximate read depth (reads with MQ=255 or with bad mates are filtered)\n",
      "substring: Genotype Quality\n",
      "substring: Genotype\n",
      "substring: Minimum DP observed within the GVCF block\n",
      "substring: Physical phasing haplotype information, describing how the alternate alleles are phased in relation to one another\n",
      "input_line[:quotation1]: ##FORMAT=<ID=PGT,Number=1,Type=String,Description=\n",
      "output line: ##FORMAT=<ID=PGT,Number=1,Type=String,Description=\"Physical phasing haplotype information describing how the alternate alleles are phased in relation to one another\">\n",
      "\n",
      "substring: Physical phasing ID information, where each unique ID within a given sample (but not across samples) connects records within a phasing group\n",
      "input_line[:quotation1]: ##FORMAT=<ID=PID,Number=1,Type=String,Description=\n",
      "output line: ##FORMAT=<ID=PID,Number=1,Type=String,Description=\"Physical phasing ID information where each unique ID within a given sample (but not across samples) connects records within a phasing group\">\n",
      "\n",
      "substring: Normalized, Phred-scaled likelihoods for genotypes as defined in the VCF specification\n",
      "input_line[:quotation1]: ##FORMAT=<ID=PL,Number=G,Type=Integer,Description=\n",
      "output line: ##FORMAT=<ID=PL,Number=G,Type=Integer,Description=\"Normalized Phred-scaled likelihoods for genotypes as defined in the VCF specification\">\n",
      "\n",
      "substring: Unconditional reference genotype confidence, encoded as a phred quality -10*log10 p(genotype call is wrong)\n",
      "input_line[:quotation1]: ##FORMAT=<ID=RGQ,Number=1,Type=Integer,Description=\n",
      "output line: ##FORMAT=<ID=RGQ,Number=1,Type=Integer,Description=\"Unconditional reference genotype confidence encoded as a phred quality -10*log10 p(genotype call is wrong)\">\n",
      "\n",
      "substring: Per-sample component statistics which comprise the Fisher's Exact Test to detect strand bias.\n",
      "substring: Allele count in genotypes, for each ALT allele, in the same order as listed\n",
      "input_line[:quotation1]: ##INFO=<ID=AC,Number=A,Type=Integer,Description=\n",
      "output line: ##INFO=<ID=AC,Number=A,Type=Integer,Description=\"Allele count in genotypes for each ALT allele in the same order as listed\">\n",
      "\n",
      "substring: Allele Frequency, for each ALT allele, in the same order as listed\n",
      "input_line[:quotation1]: ##INFO=<ID=AF,Number=A,Type=Float,Description=\n",
      "output line: ##INFO=<ID=AF,Number=A,Type=Float,Description=\"Allele Frequency for each ALT allele in the same order as listed\">\n",
      "\n",
      "substring: Total number of alleles in called genotypes\n",
      "substring: Z-score from Wilcoxon rank sum test of Alt Vs. Ref base qualities\n",
      "substring: Z-score From Wilcoxon rank sum test of Alt vs. Ref number of hard clipped bases\n",
      "substring: dbSNP Membership\n",
      "substring: Approximate read depth; some reads may have been filtered\n",
      "substring: Were any of the samples downsampled?\n",
      "substring: Stop position of the interval\n",
      "substring: Phred-scaled p-value for exact test of excess heterozygosity\n",
      "substring: Phred-scaled p-value using Fisher's exact test to detect strand bias\n",
      "substring: Consistency of the site with at most two segregating haplotypes\n",
      "substring: Inbreeding coefficient as estimated from the genotype likelihoods per-sample when compared against the Hardy-Weinberg expectation\n",
      "substring: Maximum likelihood expectation (MLE) for the allele counts (not necessarily the same as the AC), for each ALT allele, in the same order as listed\n",
      "input_line[:quotation1]: ##INFO=<ID=MLEAC,Number=A,Type=Integer,Description=\n",
      "output line: ##INFO=<ID=MLEAC,Number=A,Type=Integer,Description=\"Maximum likelihood expectation (MLE) for the allele counts (not necessarily the same as the AC) for each ALT allele in the same order as listed\">\n",
      "\n",
      "substring: Maximum likelihood expectation (MLE) for the allele frequency (not necessarily the same as the AF), for each ALT allele, in the same order as listed\n",
      "input_line[:quotation1]: ##INFO=<ID=MLEAF,Number=A,Type=Float,Description=\n",
      "output line: ##INFO=<ID=MLEAF,Number=A,Type=Float,Description=\"Maximum likelihood expectation (MLE) for the allele frequency (not necessarily the same as the AF) for each ALT allele in the same order as listed\">\n",
      "\n",
      "substring: RMS Mapping Quality\n",
      "substring: Z-score From Wilcoxon rank sum test of Alt vs. Ref read mapping qualities\n",
      "substring: This variant was used to build the negative training set of bad variants\n",
      "substring: This variant was used to build the positive training set of good variants\n",
      "substring: Variant Confidence/Quality by Depth\n",
      "substring: Raw data for RMS Mapping Quality\n",
      "substring: Z-score from Wilcoxon rank sum test of Alt vs. Ref read position bias\n",
      "substring: Symmetric Odds Ratio of 2x2 contingency table to detect strand bias\n",
      "substring: Log odds of being a true variant versus being false under the trained gaussian mixture model\n",
      "substring: The annotation which was the worst performing in the Gaussian mixture model, likely the reason why the variant was filtered out\n",
      "input_line[:quotation1]: ##INFO=<ID=culprit,Number=1,Type=String,Description=\n",
      "output line: ##INFO=<ID=culprit,Number=1,Type=String,Description=\"The annotation which was the worst performing in the Gaussian mixture model likely the reason why the variant was filtered out\">\n",
      "\n"
     ]
    }
   ],
   "source": [
    "# moving to reading from file - adding all other header lines to output file - checking FORMAT/INFO lines\n",
    "\n",
    "with open('header_chr3_edited_041923.txt', 'w') as output_file:\n",
    "    with open('header_chr3.txt') as input_file:\n",
    "        input_header_lines = input_file.readlines()\n",
    "\n",
    "        for input_line in input_header_lines:\n",
    "    #         if input_line.startswith('##FORMAT') or input_line.startswith('##INFO'):\n",
    "    #             print(f'FORMAT/INFO input line: {input_line}')\n",
    "            descr_ind = input_line.find('Description')\n",
    "            if descr_ind >= 0:\n",
    "                quotation1 = input_line.find('\"', descr_ind + len('Description') + 1)\n",
    "                quotation2 = input_line.find('\"', quotation1 + 1)\n",
    "                substring = input_line[quotation1 + 1:quotation2]\n",
    "                print(f'substring: {substring}')\n",
    "\n",
    "                ind = substring.find(',')\n",
    "                if ind == -1:\n",
    "                    output_file.write(input_line)\n",
    "\n",
    "                while ind >= 0:\n",
    "                    substring_out = substring.replace(',', '')\n",
    "                    print(f'input_line[:quotation1]: {input_line[:quotation1]}')\n",
    "                    output_line = input_line[:quotation1 + 1] + substring_out + input_line[quotation2:]\n",
    "                    print(f'output line: {output_line}')\n",
    "                    output_file.write(output_line)\n",
    "                    ind = substring_out.find(',')\n",
    "\n",
    "            else:\n",
    "                output_file.write(input_line)\n",
    "\n",
    "# print()\n",
    "# output_file = 'header_edited_chr3_041923.txt'\n",
    "# print(f'{output_file} written')"
   ]
  },
  {
   "cell_type": "code",
   "execution_count": 5,
   "id": "27ead8e9",
   "metadata": {},
   "outputs": [
    {
     "name": "stdout",
     "output_type": "stream",
     "text": [
      "different from bsn header line: #CHROM\tPOS\tID\tREF\tALT\tQUAL\tFILTER\tINFO\tFORMAT\n",
      "\n",
      "last line of bsn header: #CHROM\tPOS\tID\tREF\tALT\tQUAL\tFILTER\tINFO\tFORMAT\tPPMISI10874\tPPMISI12224\tPPMISI12499\tPPMISI12593\tPPMISI13039\tPPMISI13424\tPPMISI14281\tPPMISI14331\tPPMISI14426\tPPMISI15761\tPPMISI16580\tPPMISI16644\tPPMISI16785\tPPMISI17608\tPPMISI18026\tPPMISI18491\tPPMISI18502\tPPMISI18567\tPPMISI3000\tPPMISI3001\tPPMISI3002\tPPMISI3003\tPPMISI3004\tPPMISI3006\tPPMISI3007\tPPMISI3008\tPPMISI3009\tPPMISI3010\tPPMISI3011\tPPMISI3012\tPPMISI3013\tPPMISI3014\tPPMISI3016\tPPMISI3018\tPPMISI3020\tPPMISI3021\tPPMISI3022\tPPMISI3023\tPPMISI3024\tPPMISI3026\tPPMISI3027\tPPMISI3028\tPPMISI3029\tPPMISI3050\tPPMISI3051\tPPMISI3052\tPPMISI3053\tPPMISI3054\tPPMISI3055\tPPMISI3056\tPPMISI3057\tPPMISI3058\tPPMISI3059\tPPMISI3060\tPPMISI3061\tPPMISI3062\tPPMISI3064\tPPMISI3066\tPPMISI3067\tPPMISI3068\tPPMISI3069\tPPMISI3071\tPPMISI3072\tPPMISI3073\tPPMISI3074\tPPMISI3075\tPPMISI3076\tPPMISI3077\tPPMISI3078\tPPMISI3079\tPPMISI3080\tPPMISI3081\tPPMISI3082\tPPMISI3083\tPPMISI3085\tPPMISI3086\tPPMISI3087\tPPMISI3088\tPPMISI3089\tPPMISI3100\tPPMISI3101\tPPMISI3102\tPPMISI3104\tPPMISI3105\tPPMISI3106\tPPMISI3107\tPPMISI3108\tPPMISI3109\tPPMISI3110\tPPMISI3111\tPPMISI3112\tPPMISI3113\tPPMISI3114\tPPMISI3115\tPPMISI3116\tPPMISI3118\tPPMISI3119\tPPMISI3120\tPPMISI3122\tPPMISI3123\tPPMISI3124\tPPMISI3125\tPPMISI3126\tPPMISI3127\tPPMISI3128\tPPMISI3129\tPPMISI3130\tPPMISI3131\tPPMISI3132\tPPMISI3134\tPPMISI3150\tPPMISI3151\tPPMISI3154\tPPMISI3156\tPPMISI3157\tPPMISI3160\tPPMISI3161\tPPMISI3164\tPPMISI3165\tPPMISI3166\tPPMISI3168\tPPMISI3169\tPPMISI3170\tPPMISI3171\tPPMISI3172\tPPMISI3173\tPPMISI3174\tPPMISI3176\tPPMISI3178\tPPMISI3179\tPPMISI3180\tPPMISI3181\tPPMISI3182\tPPMISI3183\tPPMISI3184\tPPMISI3185\tPPMISI3186\tPPMISI3188\tPPMISI3189\tPPMISI3190\tPPMISI3191\tPPMISI3200\tPPMISI3201\tPPMISI3203\tPPMISI3205\tPPMISI3206\tPPMISI3207\tPPMISI3209\tPPMISI3211\tPPMISI3212\tPPMISI3213\tPPMISI3214\tPPMISI3215\tPPMISI3216\tPPMISI3217\tPPMISI3218\tPPMISI3219\tPPMISI3220\tPPMISI3221\tPPMISI3222\tPPMISI3223\tPPMISI3224\tPPMISI3225\tPPMISI3226\tPPMISI3227\tPPMISI3228\tPPMISI3229\tPPMISI3230\tPPMISI3231\tPPMISI3232\tPPMISI3233\tPPMISI3234\tPPMISI3235\tPPMISI3237\tPPMISI3251\tPPMISI3252\tPPMISI3253\tPPMISI3254\tPPMISI3256\tPPMISI3257\tPPMISI3260\tPPMISI3262\tPPMISI3264\tPPMISI3267\tPPMISI3268\tPPMISI3269\tPPMISI3270\tPPMISI3271\tPPMISI3272\tPPMISI3274\tPPMISI3275\tPPMISI3276\tPPMISI3277\tPPMISI3279\tPPMISI3280\tPPMISI3281\tPPMISI3282\tPPMISI3284\tPPMISI3288\tPPMISI3290\tPPMISI3300\tPPMISI3301\tPPMISI3304\tPPMISI3305\tPPMISI3307\tPPMISI3308\tPPMISI3309\tPPMISI3310\tPPMISI3311\tPPMISI3312\tPPMISI3313\tPPMISI3314\tPPMISI3316\tPPMISI3318\tPPMISI3319\tPPMISI3320\tPPMISI3321\tPPMISI3322\tPPMISI3323\tPPMISI3324\tPPMISI3325\tPPMISI3326\tPPMISI3327\tPPMISI3328\tPPMISI3330\tPPMISI3332\tPPMISI3333\tPPMISI3350\tPPMISI3351\tPPMISI3352\tPPMISI3353\tPPMISI3354\tPPMISI3355\tPPMISI3356\tPPMISI3357\tPPMISI3358\tPPMISI3359\tPPMISI3360\tPPMISI3361\tPPMISI3362\tPPMISI3363\tPPMISI3364\tPPMISI3365\tPPMISI3366\tPPMISI3367\tPPMISI3368\tPPMISI3369\tPPMISI3370\tPPMISI3371\tPPMISI3372\tPPMISI3373\tPPMISI3374\tPPMISI3375\tPPMISI3376\tPPMISI3377\tPPMISI3378\tPPMISI3379\tPPMISI3380\tPPMISI3381\tPPMISI3383\tPPMISI3384\tPPMISI3385\tPPMISI3386\tPPMISI3387\tPPMISI3389\tPPMISI3390\tPPMISI3392\tPPMISI3400\tPPMISI3401\tPPMISI3402\tPPMISI3403\tPPMISI3404\tPPMISI3405\tPPMISI3406\tPPMISI3407\tPPMISI3408\tPPMISI3409\tPPMISI3410\tPPMISI3411\tPPMISI3413\tPPMISI3414\tPPMISI3415\tPPMISI3417\tPPMISI3418\tPPMISI3419\tPPMISI3420\tPPMISI3421\tPPMISI3422\tPPMISI3423\tPPMISI3424\tPPMISI3425\tPPMISI3426\tPPMISI3428\tPPMISI3429\tPPMISI3430\tPPMISI3431\tPPMISI3432\tPPMISI3433\tPPMISI3434\tPPMISI3435\tPPMISI3436\tPPMISI3439\tPPMISI3440\tPPMISI3441\tPPMISI3442\tPPMISI3443\tPPMISI3444\tPPMISI3445\tPPMISI3446\tPPMISI3447\tPPMISI3448\tPPMISI3450\tPPMISI3451\tPPMISI3452\tPPMISI3453\tPPMISI3454\tPPMISI3455\tPPMISI3456\tPPMISI3457\tPPMISI3458\tPPMISI3459\tPPMISI3460\tPPMISI3461\tPPMISI3462\tPPMISI3464\tPPMISI3465\tPPMISI3466\tPPMISI3467\tPPMISI3468\tPPMISI3469\tPPMISI3470\tPPMISI3471\tPPMISI3472\tPPMISI3473\tPPMISI3475\tPPMISI3476\tPPMISI3478\tPPMISI3479\tPPMISI3480\tPPMISI3481\tPPMISI3482\tPPMISI3500\tPPMISI3501\tPPMISI3502\tPPMISI3503\tPPMISI3505\tPPMISI3506\tPPMISI3507\tPPMISI3510\tPPMISI3512\tPPMISI3514\tPPMISI3515\tPPMISI3516\tPPMISI3517\tPPMISI3518\tPPMISI3519\tPPMISI3520\tPPMISI3521\tPPMISI3522\tPPMISI3523\tPPMISI3525\tPPMISI3526\tPPMISI3527\tPPMISI3528\tPPMISI3529\tPPMISI3530\tPPMISI3532\tPPMISI3536\tPPMISI3537\tPPMISI3538\tPPMISI3539\tPPMISI3540\tPPMISI3541\tPPMISI3542\tPPMISI3543\tPPMISI3544\tPPMISI3550\tPPMISI3551\tPPMISI3552\tPPMISI3554\tPPMISI3555\tPPMISI3556\tPPMISI3557\tPPMISI3558\tPPMISI3563\tPPMISI3564\tPPMISI3565\tPPMISI3566\tPPMISI3567\tPPMISI3569\tPPMISI3570\tPPMISI3571\tPPMISI3572\tPPMISI3573\tPPMISI3574\tPPMISI3575\tPPMISI3577\tPPMISI3580\tPPMISI3581\tPPMISI3582\tPPMISI3584\tPPMISI3585\tPPMISI3586\tPPMISI3587\tPPMISI3588\tPPMISI3591\tPPMISI3592\tPPMISI3593\tPPMISI3600\tPPMISI3601\tPPMISI3603\tPPMISI3604\tPPMISI3605\tPPMISI3606\tPPMISI3607\tPPMISI3608\tPPMISI3609\tPPMISI3610\tPPMISI3611\tPPMISI3612\tPPMISI3613\tPPMISI3614\tPPMISI3615\tPPMISI3616\tPPMISI3617\tPPMISI3619\tPPMISI3620\tPPMISI3621\tPPMISI3622\tPPMISI3624\tPPMISI3625\tPPMISI3627\tPPMISI3628\tPPMISI3629\tPPMISI3630\tPPMISI3631\tPPMISI3632\tPPMISI3633\tPPMISI3634\tPPMISI3635\tPPMISI3636\tPPMISI3637\tPPMISI3638\tPPMISI3650\tPPMISI3651\tPPMISI3653\tPPMISI3654\tPPMISI3655\tPPMISI3656\tPPMISI3657\tPPMISI3658\tPPMISI3659\tPPMISI3660\tPPMISI3661\tPPMISI3662\tPPMISI3664\tPPMISI3665\tPPMISI3666\tPPMISI3668\tPPMISI3700\tPPMISI3701\tPPMISI3702\tPPMISI3704\tPPMISI3705\tPPMISI3707\tPPMISI3708\tPPMISI3709\tPPMISI3710\tPPMISI3711\tPPMISI3750\tPPMISI3751\tPPMISI3752\tPPMISI3753\tPPMISI3754\tPPMISI3755\tPPMISI3756\tPPMISI3757\tPPMISI3758\tPPMISI3759\tPPMISI3760\tPPMISI3762\tPPMISI3763\tPPMISI3764\tPPMISI3765\tPPMISI3766\tPPMISI3767\tPPMISI3768\tPPMISI3769\tPPMISI3770\tPPMISI3771\tPPMISI3772\tPPMISI3773\tPPMISI3775\tPPMISI3776\tPPMISI3777\tPPMISI3778\tPPMISI3779\tPPMISI3780\tPPMISI3781\tPPMISI3782\tPPMISI3783\tPPMISI3784\tPPMISI3785\tPPMISI3787\tPPMISI3788\tPPMISI3789\tPPMISI3790\tPPMISI3791\tPPMISI3792\tPPMISI3793\tPPMISI3794\tPPMISI3795\tPPMISI3796\tPPMISI3800\tPPMISI3802\tPPMISI3803\tPPMISI3804\tPPMISI3806\tPPMISI3807\tPPMISI3808\tPPMISI3809\tPPMISI3810\tPPMISI3811\tPPMISI3812\tPPMISI3813\tPPMISI3814\tPPMISI3815\tPPMISI3816\tPPMISI3817\tPPMISI3818\tPPMISI3819\tPPMISI3820\tPPMISI3821\tPPMISI3822\tPPMISI3823\tPPMISI3824\tPPMISI3825\tPPMISI3826\tPPMISI3827\tPPMISI3828\tPPMISI3829\tPPMISI3830\tPPMISI3831\tPPMISI3832\tPPMISI3834\tPPMISI3835\tPPMISI3836\tPPMISI3838\tPPMISI3850\tPPMISI3851\tPPMISI3852\tPPMISI3853\tPPMISI3854\tPPMISI3855\tPPMISI3856\tPPMISI3857\tPPMISI3858\tPPMISI3859\tPPMISI3860\tPPMISI3861\tPPMISI3862\tPPMISI3863\tPPMISI3865\tPPMISI3866\tPPMISI3867\tPPMISI3868\tPPMISI3869\tPPMISI3870\tPPMISI3871\tPPMISI3900\tPPMISI3901\tPPMISI3902\tPPMISI3903\tPPMISI3904\tPPMISI3905\tPPMISI3907\tPPMISI3908\tPPMISI3910\tPPMISI3911\tPPMISI3914\tPPMISI3915\tPPMISI3916\tPPMISI3917\tPPMISI3950\tPPMISI3951\tPPMISI3952\tPPMISI3953\tPPMISI3954\tPPMISI3955\tPPMISI3956\tPPMISI3957\tPPMISI3958\tPPMISI3959\tPPMISI3960\tPPMISI3961\tPPMISI3962\tPPMISI3963\tPPMISI3964\tPPMISI3965\tPPMISI3966\tPPMISI3967\tPPMISI3968\tPPMISI3969\tPPMISI3970\tPPMISI3972\tPPMISI4001\tPPMISI40012\tPPMISI4004\tPPMISI4005\tPPMISI4006\tPPMISI4009\tPPMISI4010\tPPMISI4011\tPPMISI4012\tPPMISI4013\tPPMISI4016\tPPMISI40163\tPPMISI4018\tPPMISI4019\tPPMISI4020\tPPMISI4021\tPPMISI4022\tPPMISI4023\tPPMISI4024\tPPMISI4025\tPPMISI4027\tPPMISI40273\tPPMISI4029\tPPMISI4030\tPPMISI4031\tPPMISI4032\tPPMISI4033\tPPMISI40338\tPPMISI4034\tPPMISI4035\tPPMISI4036\tPPMISI40360\tPPMISI40366\tPPMISI4037\tPPMISI4038\tPPMISI40388\tPPMISI40451\tPPMISI4051\tPPMISI4052\tPPMISI40520\tPPMISI4053\tPPMISI40531\tPPMISI4054\tPPMISI4055\tPPMISI40553\tPPMISI40555\tPPMISI40558\tPPMISI4056\tPPMISI40560\tPPMISI4057\tPPMISI40578\tPPMISI4058\tPPMISI40585\tPPMISI40586\tPPMISI40587\tPPMISI4059\tPPMISI40619\tPPMISI40621\tPPMISI4064\tPPMISI4065\tPPMISI4066\tPPMISI4067\tPPMISI40671\tPPMISI40690\tPPMISI40691\tPPMISI40692\tPPMISI40693\tPPMISI40694\tPPMISI4070\tPPMISI40702\tPPMISI40703\tPPMISI40704\tPPMISI40707\tPPMISI40709\tPPMISI4071\tPPMISI40713\tPPMISI40714\tPPMISI4072\tPPMISI40725\tPPMISI40726\tPPMISI4073\tPPMISI40730\tPPMISI40731\tPPMISI40733\tPPMISI40735\tPPMISI40737\tPPMISI4074\tPPMISI4075\tPPMISI40754\tPPMISI40755\tPPMISI40756\tPPMISI40757\tPPMISI40758\tPPMISI40759\tPPMISI4076\tPPMISI40760\tPPMISI40761\tPPMISI40763\tPPMISI40769\tPPMISI4077\tPPMISI40771\tPPMISI40772\tPPMISI40773\tPPMISI40774\tPPMISI40775\tPPMISI40776\tPPMISI40777\tPPMISI40778\tPPMISI40779\tPPMISI4078\tPPMISI40781\tPPMISI4079\tPPMISI4080\tPPMISI40800\tPPMISI40806\tPPMISI4081\tPPMISI40816\tPPMISI4082\tPPMISI4083\tPPMISI4084\tPPMISI40843\tPPMISI4085\tPPMISI4086\tPPMISI40882\tPPMISI4090\tPPMISI4091\tPPMISI40916\tPPMISI4092\tPPMISI4094\tPPMISI4096\tPPMISI4098\tPPMISI4099\tPPMISI4100\tPPMISI4101\tPPMISI4102\tPPMISI4103\tPPMISI4104\tPPMISI4105\tPPMISI41052\tPPMISI4106\tPPMISI41069\tPPMISI4107\tPPMISI4108\tPPMISI4109\tPPMISI4110\tPPMISI4111\tPPMISI4112\tPPMISI4113\tPPMISI4114\tPPMISI4115\tPPMISI41154\tPPMISI4116\tPPMISI41165\tPPMISI4117\tPPMISI41172\tPPMISI4118\tPPMISI41181\tPPMISI41184\tPPMISI4121\tPPMISI4122\tPPMISI4123\tPPMISI4124\tPPMISI41246\tPPMISI4125\tPPMISI4126\tPPMISI4127\tPPMISI41279\tPPMISI41280\tPPMISI41281\tPPMISI41282\tPPMISI41283\tPPMISI41284\tPPMISI41285\tPPMISI41286\tPPMISI41287\tPPMISI41288\tPPMISI41289\tPPMISI41290\tPPMISI41291\tPPMISI41292\tPPMISI41293\tPPMISI41294\tPPMISI41295\tPPMISI41296\tPPMISI41297\tPPMISI41299\tPPMISI41300\tPPMISI41302\tPPMISI41303\tPPMISI41304\tPPMISI41305\tPPMISI41307\tPPMISI41308\tPPMISI41309\tPPMISI41310\tPPMISI41313\tPPMISI41321\tPPMISI41337\tPPMISI41338\tPPMISI41342\tPPMISI41343\tPPMISI41348\tPPMISI4135\tPPMISI41356\tPPMISI4136\tPPMISI41364\tPPMISI41370\tPPMISI41371\tPPMISI41373\tPPMISI41375\tPPMISI41380\tPPMISI41381\tPPMISI41382\tPPMISI41384\tPPMISI4139\tPPMISI41399\tPPMISI41400\tPPMISI41401\tPPMISI41405\tPPMISI41410\tPPMISI41411\tPPMISI41412\tPPMISI41414\tPPMISI41420\tPPMISI41430\tPPMISI41432\tPPMISI41438\tPPMISI41461\tPPMISI41471\tPPMISI41473\tPPMISI41484\tPPMISI41486\tPPMISI41487\tPPMISI41488\tPPMISI41508\tPPMISI41519\tPPMISI41521\tPPMISI41522\tPPMISI41523\tPPMISI41526\tPPMISI41529\tPPMISI41560\tPPMISI41562\tPPMISI41568\tPPMISI41578\tPPMISI41614\tPPMISI41635\tPPMISI41664\tPPMISI41665\tPPMISI41690\tPPMISI41705\tPPMISI41721\tPPMISI41725\tPPMISI41727\tPPMISI41749\tPPMISI41767\tPPMISI41780\tPPMISI41796\tPPMISI41801\tPPMISI41821\tPPMISI41829\tPPMISI41851\tPPMISI41854\tPPMISI41886\tPPMISI41967\tPPMISI41976\tPPMISI41977\tPPMISI41978\tPPMISI41983\tPPMISI41984\tPPMISI41985\tPPMISI41988\tPPMISI41989\tPPMISI41990\tPPMISI41992\tPPMISI41993\tPPMISI41994\tPPMISI41997\tPPMISI41999\tPPMISI42000\tPPMISI42001\tPPMISI42006\tPPMISI42008\tPPMISI42009\tPPMISI42011\tPPMISI42012\tPPMISI42013\tPPMISI42014\tPPMISI42017\tPPMISI42018\tPPMISI42069\tPPMISI42071\tPPMISI42072\tPPMISI42078\tPPMISI42079\tPPMISI42080\tPPMISI42081\tPPMISI42082\tPPMISI42121\tPPMISI42123\tPPMISI42125\tPPMISI42126\tPPMISI42128\tPPMISI42133\tPPMISI42134\tPPMISI42135\tPPMISI42146\tPPMISI42148\tPPMISI42159\tPPMISI42161\tPPMISI42164\tPPMISI42168\tPPMISI42171\tPPMISI42172\tPPMISI42173\tPPMISI42206\tPPMISI42209\tPPMISI42233\tPPMISI42234\tPPMISI42239\tPPMISI42240\tPPMISI42250\tPPMISI42253\tPPMISI42257\tPPMISI42263\tPPMISI42264\tPPMISI42265\tPPMISI42293\tPPMISI42298\tPPMISI42305\tPPMISI42306\tPPMISI42308\tPPMISI42312\tPPMISI42320\tPPMISI42346\tPPMISI42349\tPPMISI42351\tPPMISI42357\tPPMISI42361\tPPMISI42368\tPPMISI42378\tPPMISI42379\tPPMISI42380\tPPMISI42418\tPPMISI42422\tPPMISI42426\tPPMISI42429\tPPMISI42431\tPPMISI42434\tPPMISI42435\tPPMISI42436\tPPMISI42437\tPPMISI42438\tPPMISI42439\tPPMISI42443\tPPMISI42444\tPPMISI42445\tPPMISI42446\tPPMISI42447\tPPMISI42448\tPPMISI42449\tPPMISI42450\tPPMISI42451\tPPMISI42452\tPPMISI42453\tPPMISI42454\tPPMISI50009\tPPMISI50028\tPPMISI50044\tPPMISI50081\tPPMISI50086\tPPMISI50088\tPPMISI50110\tPPMISI50143\tPPMISI50157\tPPMISI50172\tPPMISI50175\tPPMISI50184\tPPMISI50192\tPPMISI50195\tPPMISI50219\tPPMISI50222\tPPMISI50225\tPPMISI50275\tPPMISI50319\tPPMISI50328\tPPMISI50379\tPPMISI50451\tPPMISI50455\tPPMISI50462\tPPMISI50485\tPPMISI50509\tPPMISI50546\tPPMISI50557\tPPMISI50572\tPPMISI50621\tPPMISI50670\tPPMISI50685\tPPMISI50701\tPPMISI50746\tPPMISI50829\tPPMISI50860\tPPMISI50901\tPPMISI50961\tPPMISI50963\tPPMISI51186\tPPMISI51232\tPPMISI51247\tPPMISI51252\tPPMISI51302\tPPMISI51311\tPPMISI51330\tPPMISI51392\tPPMISI51440\tPPMISI51441\tPPMISI51514\tPPMISI51518\tPPMISI51540\tPPMISI51544\tPPMISI51551\tPPMISI51557\tPPMISI51607\tPPMISI51611\tPPMISI51625\tPPMISI51632\tPPMISI51652\tPPMISI51675\tPPMISI51689\tPPMISI51714\tPPMISI51726\tPPMISI51731\tPPMISI51746\tPPMISI51755\tPPMISI51782\tPPMISI51800\tPPMISI51844\tPPMISI51867\tPPMISI51904\tPPMISI51907\tPPMISI51912\tPPMISI51971\tPPMISI52002\tPPMISI52006\tPPMISI52062\tPPMISI52128\tPPMISI52146\tPPMISI52200\tPPMISI52215\tPPMISI52258\tPPMISI52273\tPPMISI52274\tPPMISI52275\tPPMISI52276\tPPMISI52278\tPPMISI52293\tPPMISI52353\tPPMISI52355\tPPMISI52362\tPPMISI52378\tPPMISI52400\tPPMISI52414\tPPMISI52432\tPPMISI52454\tPPMISI52513\tPPMISI52514\tPPMISI52515\tPPMISI52517\tPPMISI52518\tPPMISI52521\tPPMISI52523\tPPMISI52524\tPPMISI52528\tPPMISI52530\tPPMISI52543\tPPMISI52552\tPPMISI52562\tPPMISI52563\tPPMISI52580\tPPMISI52587\tPPMISI52599\tPPMISI52604\tPPMISI52607\tPPMISI52620\tPPMISI52634\tPPMISI52641\tPPMISI52644\tPPMISI52678\tPPMISI52694\tPPMISI52746\tPPMISI52748\tPPMISI52752\tPPMISI52768\tPPMISI52772\tPPMISI52783\tPPMISI52784\tPPMISI52787\tPPMISI52791\tPPMISI52828\tPPMISI52845\tPPMISI52849\tPPMISI52850\tPPMISI52854\tPPMISI52861\tPPMISI52868\tPPMISI52871\tPPMISI52872\tPPMISI52874\tPPMISI52888\tPPMISI52927\tPPMISI52932\tPPMISI52948\tPPMISI52969\tPPMISI52982\tPPMISI53015\tPPMISI53033\tPPMISI53044\tPPMISI53050\tPPMISI53054\tPPMISI53069\tPPMISI53073\tPPMISI53113\tPPMISI53193\tPPMISI53213\tPPMISI53286\tPPMISI53292\tPPMISI53308\tPPMISI53310\tPPMISI53319\tPPMISI53339\tPPMISI53340\tPPMISI53354\tPPMISI53418\tPPMISI53422\tPPMISI53426\tPPMISI53457\tPPMISI53494\tPPMISI53518\tPPMISI53519\tPPMISI53557\tPPMISI53595\tPPMISI53600\tPPMISI53628\tPPMISI53639\tPPMISI53663\tPPMISI53677\tPPMISI53694\tPPMISI53756\tPPMISI53866\tPPMISI53925\tPPMISI53985\tPPMISI53988\tPPMISI53996\tPPMISI53999\tPPMISI54048\tPPMISI54072\tPPMISI54110\tPPMISI54144\tPPMISI54156\tPPMISI54166\tPPMISI54170\tPPMISI54186\tPPMISI54194\tPPMISI54197\tPPMISI54198\tPPMISI54215\tPPMISI54218\tPPMISI54248\tPPMISI54262\tPPMISI54265\tPPMISI54266\tPPMISI54308\tPPMISI54309\tPPMISI54364\tPPMISI54373\tPPMISI54446\tPPMISI54448\tPPMISI54461\tPPMISI54493\tPPMISI54539\tPPMISI54578\tPPMISI54612\tPPMISI54663\tPPMISI54695\tPPMISI54699\tPPMISI54712\tPPMISI54724\tPPMISI54831\tPPMISI54854\tPPMISI54900\tPPMISI54908\tPPMISI54915\tPPMISI54916\tPPMISI54937\tPPMISI54991\tPPMISI55083\tPPMISI55085\tPPMISI55094\tPPMISI55098\tPPMISI55124\tPPMISI55151\tPPMISI55198\tPPMISI55250\tPPMISI55251\tPPMISI55265\tPPMISI55282\tPPMISI55308\tPPMISI55349\tPPMISI55380\tPPMISI55395\tPPMISI55413\tPPMISI55441\tPPMISI55468\tPPMISI55557\tPPMISI55577\tPPMISI55610\tPPMISI55714\tPPMISI55725\tPPMISI55726\tPPMISI55757\tPPMISI55763\tPPMISI55803\tPPMISI55822\tPPMISI55842\tPPMISI55875\tPPMISI56028\tPPMISI56033\tPPMISI56048\tPPMISI56060\tPPMISI56070\tPPMISI56126\tPPMISI56135\tPPMISI56169\tPPMISI56175\tPPMISI56184\tPPMISI56267\tPPMISI56435\tPPMISI56457\tPPMISI56491\tPPMISI56492\tPPMISI56524\tPPMISI56534\tPPMISI56537\tPPMISI56558\tPPMISI56561\tPPMISI56571\tPPMISI56582\tPPMISI56593\tPPMISI56620\tPPMISI56680\tPPMISI56706\tPPMISI56744\tPPMISI56761\tPPMISI56779\tPPMISI56789\tPPMISI56807\tPPMISI56826\tPPMISI56925\tPPMISI56954\tPPMISI57037\tPPMISI57090\tPPMISI57103\tPPMISI57127\tPPMISI57159\tPPMISI57170\tPPMISI57173\tPPMISI57178\tPPMISI57277\tPPMISI57282\tPPMISI57292\tPPMISI57340\tPPMISI57347\tPPMISI57365\tPPMISI57407\tPPMISI57447\tPPMISI57505\tPPMISI57567\tPPMISI57572\tPPMISI57605\tPPMISI57670\tPPMISI57714\tPPMISI57738\tPPMISI57787\tPPMISI57798\tPPMISI57887\tPPMISI57961\tPPMISI57965\tPPMISI57969\tPPMISI58027\tPPMISI58030\tPPMISI58074\tPPMISI58099\tPPMISI58111\tPPMISI58138\tPPMISI58164\tPPMISI58182\tPPMISI58221\tPPMISI58222\tPPMISI58224\tPPMISI58420\tPPMISI58431\tPPMISI58454\tPPMISI58500\tPPMISI58510\tPPMISI58676\tPPMISI58721\tPPMISI58843\tPPMISI58858\tPPMISI58865\tPPMISI58951\tPPMISI58990\tPPMISI59076\tPPMISI59122\tPPMISI59154\tPPMISI59174\tPPMISI59343\tPPMISI59390\tPPMISI59398\tPPMISI59483\tPPMISI59614\tPPMISI59817\tPPMISI59926\tPPMISI60002\tPPMISI60003\tPPMISI60004\tPPMISI60006\tPPMISI60013\tPPMISI60015\tPPMISI60023\tPPMISI60024\tPPMISI60033\tPPMISI60035\tPPMISI60036\tPPMISI60043\tPPMISI60044\tPPMISI60045\tPPMISI60046\tPPMISI60048\tPPMISI60056\tPPMISI60057\tPPMISI60059\tPPMISI60060\tPPMISI60063\tPPMISI60065\tPPMISI60073\tPPMISI60074\tPPMISI60075\tPPMISI60091\tPPMISI60095\tPPMISI60096\tPPMISI60100\tPPMISI60101\tPPMISI60107\tPPMISI60108\tPPMISI60109\tPPMISI60118\tPPMISI60122\tPPMISI60134\tPPMISI60148\tPPMISI60170\tPPMISI60171\tPPMISI65000\tPPMISI65002\tPPMISI65003\tPPMISI65004\tPPMISI70023\tPPMISI70239\tPPMISI85062\tPPMISI85236\tPPMISI85242\tPPMISI90456\tPPMISI91097\tPPMISI91837\tPPMISI92490\tPPMISI92834\n",
      "\n",
      "last line of subset41513 header: #CHROM\tPOS\tID\tREF\tALT\tQUAL\tFILTER\tINFO\tFORMAT\n",
      "\n"
     ]
    }
   ],
   "source": [
    "# compare BSN and 41513 headers\n",
    "\n",
    "with open('header_subsetBSN_042023.txt') as bsn_file:\n",
    "    with open('header.subset41513.txt') as subset41513_file:\n",
    "        bsn_header_lines = bsn_file.readlines()\n",
    "        subset41513_header_lines = subset41513_file.readlines()\n",
    "\n",
    "for line in subset41513_header_lines:\n",
    "    if line not in bsn_header_lines:\n",
    "        print(f'different from bsn header line: {line}')\n",
    "\n",
    "print(f'last line of bsn header: {bsn_header_lines[-1]}')\n",
    "print(f'last line of subset41513 header: {subset41513_header_lines[-1]}')"
   ]
  }
 ],
 "metadata": {
  "kernelspec": {
   "display_name": "Python 3 (ipykernel)",
   "language": "python",
   "name": "python3"
  },
  "language_info": {
   "codemirror_mode": {
    "name": "ipython",
    "version": 3
   },
   "file_extension": ".py",
   "mimetype": "text/x-python",
   "name": "python",
   "nbconvert_exporter": "python",
   "pygments_lexer": "ipython3",
   "version": "3.9.12"
  }
 },
 "nbformat": 4,
 "nbformat_minor": 5
}
